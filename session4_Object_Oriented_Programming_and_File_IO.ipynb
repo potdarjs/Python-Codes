{
  "nbformat": 4,
  "nbformat_minor": 0,
  "metadata": {
    "colab": {
      "name": "session4_Object Oriented Programming and File IO.ipynb",
      "version": "0.3.2",
      "provenance": [],
      "include_colab_link": true
    },
    "kernelspec": {
      "display_name": "Python 3",
      "language": "python",
      "name": "python3"
    }
  },
  "cells": [
    {
      "cell_type": "markdown",
      "metadata": {
        "id": "view-in-github",
        "colab_type": "text"
      },
      "source": [
        "<a href=\"https://colab.research.google.com/github/potdarjs/Python-Codes/blob/master/session4_Object_Oriented_Programming_and_File_IO.ipynb\" target=\"_parent\"><img src=\"https://colab.research.google.com/assets/colab-badge.svg\" alt=\"Open In Colab\"/></a>"
      ]
    },
    {
      "metadata": {
        "id": "6m0IsKhC3NR5",
        "colab_type": "text"
      },
      "cell_type": "markdown",
      "source": [
        "# Object Oriented Programming and File I/O"
      ]
    },
    {
      "metadata": {
        "id": "cySCawZc3NR8",
        "colab_type": "text"
      },
      "cell_type": "markdown",
      "source": [
        "__Object Oriented Programming (OOP)__ is a programming paradigm that allows abstraction through the concept of interacting entities. This programming works contradictory to conventional model and is procedural, in which programs are organized as a sequence of commands or statements to perform.\n",
        "\n",
        "We can think an object as an entity that resides in memory, has a state and it's able to perform some actions. \n",
        " \n",
        "More formally objects are entities that represent **instances** of a general abstract concept called **class**. In `Python`, \"attributes\" are the variables defining an object state and the possible actions are called \"methods\".\n",
        "\n",
        "In Python, everything is an object also classes and functions."
      ]
    },
    {
      "metadata": {
        "id": "UGGMKGvy3NR-",
        "colab_type": "text"
      },
      "cell_type": "markdown",
      "source": [
        "## 1 How to define classes"
      ]
    },
    {
      "metadata": {
        "id": "MTYu-0KL3NSA",
        "colab_type": "text"
      },
      "cell_type": "markdown",
      "source": [
        "### 1.1 Creating a class"
      ]
    },
    {
      "metadata": {
        "id": "OkdOGjq_3NSB",
        "colab_type": "text"
      },
      "cell_type": "markdown",
      "source": [
        "Suppose we want to create a class, named Person, as a prototype, a sort of template for any number of 'Person' objects (instances)."
      ]
    },
    {
      "metadata": {
        "id": "x8ztdF-F3NSD",
        "colab_type": "text"
      },
      "cell_type": "markdown",
      "source": [
        "The following python syntax defines a class:\n",
        "\n",
        "    class ClassName(base_classes):\n",
        "        statements\n",
        "\n",
        "        "
      ]
    },
    {
      "metadata": {
        "id": "tHUJWJgG3NSF",
        "colab_type": "text"
      },
      "cell_type": "markdown",
      "source": [
        "Class names should always be uppercase (it's a naming convention)."
      ]
    },
    {
      "metadata": {
        "id": "ESskoaDn3NSG",
        "colab_type": "text"
      },
      "cell_type": "markdown",
      "source": [
        "Say we need to model a Person as:\n",
        "\n",
        "* Name\n",
        "* Surname  \n",
        "* Age  "
      ]
    },
    {
      "metadata": {
        "id": "4J_vmg-y3NSI",
        "colab_type": "code",
        "colab": {
          "base_uri": "https://localhost:8080/",
          "height": 50
        },
        "outputId": "e734771f-2950-478e-d1ec-874a1e360e36"
      },
      "cell_type": "code",
      "source": [
        "class Person:\n",
        "    pass\n",
        "\n",
        "john_doe = Person()\n",
        "john_doe.name = \"Alec\"\n",
        "john_doe.surname = \"Baldwin\"\n",
        "john_doe.year_of_birth = 1958\n",
        "\n",
        "\n",
        "print(john_doe)\n",
        "print(john_doe.name, john_doe.surname, \"was born in\", john_doe.year_of_birth)"
      ],
      "execution_count": 3,
      "outputs": [
        {
          "output_type": "stream",
          "text": [
            "<__main__.Person object at 0x7f1e54704128>\n",
            "Alec Baldwin was born in 1958\n"
          ],
          "name": "stdout"
        }
      ]
    },
    {
      "metadata": {
        "id": "oqka2jgr55zv",
        "colab_type": "code",
        "colab": {}
      },
      "cell_type": "code",
      "source": [
        "print(\"%s %s was born in %d.\" %\n",
        "      (john_doe.name, john_doe.surname, john_doe.year_of_birth))"
      ],
      "execution_count": 0,
      "outputs": []
    },
    {
      "metadata": {
        "id": "ApWwtKyB3NSR",
        "colab_type": "text"
      },
      "cell_type": "markdown",
      "source": [
        "The above example defines an empty class (i.e. the class doesn't have a state) called _Person_ then creates a _Person_ instance called _john_doe_ and adds three attributes to _john_doe_. We see that we can access objects attributes using the \"dot\" operator.\n",
        "\n",
        "This isn't a recommended style because classes should describe homogeneous entities. A way to do so is the following:"
      ]
    },
    {
      "metadata": {
        "id": "xHVVS5863NSS",
        "colab_type": "code",
        "colab": {}
      },
      "cell_type": "code",
      "source": [
        "class Person:\n",
        "    def __init__(self, name, surname, year_of_birth):\n",
        "        self.name = name\n",
        "        self.surname = surname\n",
        "        self.year_of_birth = year_of_birth"
      ],
      "execution_count": 0,
      "outputs": []
    },
    {
      "metadata": {
        "id": "1ycyRDn-3NSV",
        "colab_type": "text"
      },
      "cell_type": "markdown",
      "source": [
        "    __init__(self, ...)\n",
        "Is a special _Python_ method that is automatically called after an object construction. Its purpose is to initialize every object state. The first argument (by convention) __self__ is automatically passed either and refers to the object itself.\n",
        "\n",
        "In the preceding example, `__init__` adds three attributes to every object that is instantiated. So the class is actually describing each object's state.\n"
      ]
    },
    {
      "metadata": {
        "id": "w_Dk4Lhe3NSW",
        "colab_type": "text"
      },
      "cell_type": "markdown",
      "source": [
        "We cannot directly manipulate any class rather we need to create an instance of the class: "
      ]
    },
    {
      "metadata": {
        "id": "0rJPif8R3NSX",
        "colab_type": "code",
        "colab": {
          "base_uri": "https://localhost:8080/",
          "height": 34
        },
        "outputId": "9ac9d34c-21cb-4ebd-c705-872654cd82ca"
      },
      "cell_type": "code",
      "source": [
        "alec = Person(\"Alec\", \"Baldwin\", 1958)\n",
        "print(alec)"
      ],
      "execution_count": 8,
      "outputs": [
        {
          "output_type": "stream",
          "text": [
            "<__main__.Person object at 0x7f1e54695d68>\n"
          ],
          "name": "stdout"
        }
      ]
    },
    {
      "metadata": {
        "id": "nxqRTfaf3NSa",
        "colab_type": "text"
      },
      "cell_type": "markdown",
      "source": [
        "\n",
        "We have just created an instance of the Person class, bound to the variable `alec`. "
      ]
    },
    {
      "metadata": {
        "id": "U9RJxXIq3NSb",
        "colab_type": "text"
      },
      "cell_type": "markdown",
      "source": [
        "### 1.2 Methods"
      ]
    },
    {
      "metadata": {
        "id": "-gIr8HED3NSc",
        "colab_type": "code",
        "colab": {
          "base_uri": "https://localhost:8080/",
          "height": 50
        },
        "outputId": "0bf602b1-d1df-4e26-d226-c7a06fa9ecde"
      },
      "cell_type": "code",
      "source": [
        "class Person:\n",
        "    def __init__(self, name, surname, year_of_birth):\n",
        "        self.name = name\n",
        "        self.surname = surname\n",
        "        self.year_of_birth = year_of_birth\n",
        "    \n",
        "    def age(self, current_year):\n",
        "        return current_year - self.year_of_birth\n",
        "    \n",
        "    def __str__(self):\n",
        "        return \"%s %s was born in %d .\" % (self.name, self.surname, self.year_of_birth)\n",
        "    \n",
        "alec = Person(\"Alec\", \"Baldwin\", 1958)\n",
        "print(alec)\n",
        "print(alec.age(2014))\n"
      ],
      "execution_count": 9,
      "outputs": [
        {
          "output_type": "stream",
          "text": [
            "Alec Baldwin was born in 1958 .\n",
            "56\n"
          ],
          "name": "stdout"
        }
      ]
    },
    {
      "metadata": {
        "id": "bDVdRtTa3NSf",
        "colab_type": "text"
      },
      "cell_type": "markdown",
      "source": [
        "We defined two more methods `age` and  `__str__`. The latter is once again a special method that is called by Python when the object has to be represented as a string (e.g. when has to be printed). If the `__str__` method isn't defined the **print** command shows the type of object and its address in memory. We can see that in order to call a method we use the same syntax for attributes (**instance_name.instance _method**)."
      ]
    },
    {
      "metadata": {
        "id": "6u85cya73NSg",
        "colab_type": "text"
      },
      "cell_type": "markdown",
      "source": [
        "### 1.3 Bad practice"
      ]
    },
    {
      "metadata": {
        "id": "y5GQcMCi3NSh",
        "colab_type": "text"
      },
      "cell_type": "markdown",
      "source": [
        "It is possible to create a class without the `__init__` method, but this is not a recommended style because classes should describe homogeneous entities."
      ]
    },
    {
      "metadata": {
        "id": "w-5pMq293NSi",
        "colab_type": "code",
        "colab": {}
      },
      "cell_type": "code",
      "source": [
        "class Person:\n",
        "  \n",
        "    def set_name(self, name):\n",
        "        self.name = name\n",
        "        \n",
        "    def set_surname(self, surname):\n",
        "        self.surname = surname\n",
        "        \n",
        "    def set_year_of_birth(self, year_of_birth):\n",
        "        self.year_of_birth = year_of_birth\n",
        "        \n",
        "    def age(self, current_year):\n",
        "        return current_year - self.year_of_birth\n",
        "    \n",
        "    def __str__(self):\n",
        "        return \"%s %s was born in %d .\" \\\n",
        "                % (self.name, self.surname, self.year_of_birth)\n",
        "    "
      ],
      "execution_count": 0,
      "outputs": []
    },
    {
      "metadata": {
        "id": "PJ-Bt3YP3NSk",
        "colab_type": "text"
      },
      "cell_type": "markdown",
      "source": [
        "In this case, an empty instance of the class Person is created, and no attributes have been initialized while instantiating:"
      ]
    },
    {
      "metadata": {
        "id": "eCJxeJhx3NSl",
        "colab_type": "code",
        "colab": {}
      },
      "cell_type": "code",
      "source": [
        "president = Person()"
      ],
      "execution_count": 0,
      "outputs": []
    },
    {
      "metadata": {
        "id": "fMXOnmMK3NSo",
        "colab_type": "code",
        "colab": {
          "base_uri": "https://localhost:8080/",
          "height": 162
        },
        "outputId": "0717f273-0304-4070-a023-01925425aa7f"
      },
      "cell_type": "code",
      "source": [
        "# This code will raise an attribute error:\n",
        "print(president.name)"
      ],
      "execution_count": 12,
      "outputs": [
        {
          "output_type": "error",
          "ename": "AttributeError",
          "evalue": "ignored",
          "traceback": [
            "\u001b[0;31m---------------------------------------------------------------------------\u001b[0m",
            "\u001b[0;31mAttributeError\u001b[0m                            Traceback (most recent call last)",
            "\u001b[0;32m<ipython-input-12-b13ace168670>\u001b[0m in \u001b[0;36m<module>\u001b[0;34m()\u001b[0m\n\u001b[0;32m----> 1\u001b[0;31m \u001b[0mprint\u001b[0m\u001b[0;34m(\u001b[0m\u001b[0mpresident\u001b[0m\u001b[0;34m.\u001b[0m\u001b[0mname\u001b[0m\u001b[0;34m)\u001b[0m\u001b[0;34m\u001b[0m\u001b[0;34m\u001b[0m\u001b[0m\n\u001b[0m",
            "\u001b[0;31mAttributeError\u001b[0m: 'Person' object has no attribute 'name'"
          ]
        }
      ]
    },
    {
      "metadata": {
        "id": "isCDT4Kb3NSr",
        "colab_type": "text"
      },
      "cell_type": "markdown",
      "source": [
        "This raises an Attribute Error... We need to set the attributes:"
      ]
    },
    {
      "metadata": {
        "id": "P0h3jHyV3NSs",
        "colab_type": "code",
        "colab": {}
      },
      "cell_type": "code",
      "source": [
        "president.set_name('John')\n",
        "president.set_surname('Doe')\n",
        "president.set_year_of_birth(1940)"
      ],
      "execution_count": 0,
      "outputs": []
    },
    {
      "metadata": {
        "id": "uLpM_Dyn3NSv",
        "colab_type": "code",
        "colab": {
          "base_uri": "https://localhost:8080/",
          "height": 34
        },
        "outputId": "73f861dd-c62f-4434-e6b9-d433771997b6"
      },
      "cell_type": "code",
      "source": [
        "print('Mr', president.name, president.surname,\n",
        "      'is the president, and he is very old. He is',\n",
        "      president.age(2014))"
      ],
      "execution_count": 14,
      "outputs": [
        {
          "output_type": "stream",
          "text": [
            "Mr John Doe is the president, and he is very old. He is 74\n"
          ],
          "name": "stdout"
        }
      ]
    },
    {
      "metadata": {
        "id": "8mGF32mN3NSy",
        "colab_type": "text"
      },
      "cell_type": "markdown",
      "source": [
        "### 1.4 Protect your abstraction"
      ]
    },
    {
      "metadata": {
        "id": "mwu2ltLW3NS0",
        "colab_type": "text"
      },
      "cell_type": "markdown",
      "source": [
        "Here the instance attributes shouldn't be accessible by the end user of an object as they are powerful mean of abstraction they should not reveal the internal implementation detail. In Python, there is no specific strict mechanism to protect object attributes but the official guidelines suggest that a variable that has an underscore prefix should be treated as 'Private'.\n",
        "\n",
        "Moreover prepending two underscores to a variable name makes the interpreter mangle a little the variable name."
      ]
    },
    {
      "metadata": {
        "id": "UQQ_Optq3NS1",
        "colab_type": "code",
        "colab": {},
        "outputId": "48ed0def-2f3c-405e-eac9-3fc86203c274"
      },
      "cell_type": "code",
      "source": [
        "class Person:\n",
        "    def __init__(self, name, surname, year_of_birth):\n",
        "        self._name = name\n",
        "        self._surname = surname\n",
        "        self._year_of_birth = year_of_birth\n",
        "    \n",
        "    def age(self, current_year):\n",
        "        return current_year - self._year_of_birth\n",
        "    \n",
        "    def __str__(self):\n",
        "        return \"%s %s and was born %d.\" \\\n",
        "                % (self._name, self._surname, self._year_of_birth)\n",
        "    \n",
        "alec = Person(\"Alec\", \"Baldwin\", 1958)\n",
        "print(alec)\n",
        "print(alec.age(2014))"
      ],
      "execution_count": 0,
      "outputs": [
        {
          "output_type": "stream",
          "text": [
            "Alec Baldwin and was born 1958.\n",
            "56\n"
          ],
          "name": "stdout"
        }
      ]
    },
    {
      "metadata": {
        "id": "hEmlb75B3NS7",
        "colab_type": "code",
        "colab": {
          "base_uri": "https://localhost:8080/",
          "height": 34
        },
        "outputId": "4a1d1d9a-1b8d-4829-8c60-2d19713f2308"
      },
      "cell_type": "code",
      "source": [
        "class Person:\n",
        "    def __init__(self, name, surname, year_of_birth):\n",
        "        self.__name = name\n",
        "        self.__surname = surname\n",
        "        self.__year_of_birth = year_of_birth\n",
        "    \n",
        "    def age(self, current_year):\n",
        "        return current_year - self.__year_of_birth\n",
        "    \n",
        "    def __str__(self):\n",
        "        return \"%s %s and was born %d.\" \\\n",
        "                % (self.__name, self.__surname, self.__year_of_birth)\n",
        "    \n",
        "alec = Person(\"Alec\", \"Baldwin\", 1958)\n",
        "print(alec.__dict__.keys())"
      ],
      "execution_count": 16,
      "outputs": [
        {
          "output_type": "stream",
          "text": [
            "dict_keys(['_Person__name', '_Person__surname', '_Person__year_of_birth'])\n"
          ],
          "name": "stdout"
        }
      ]
    },
    {
      "metadata": {
        "id": "jxL1OJA03NS_",
        "colab_type": "text"
      },
      "cell_type": "markdown",
      "source": [
        "`__dict__` is a special attribute is a dictionary containing each attribute of an object. We can see that prepending two underscores every key has `_ClassName__` prepended."
      ]
    },
    {
      "metadata": {
        "id": "9wVYATpM3NTA",
        "colab_type": "text"
      },
      "cell_type": "markdown",
      "source": [
        "## 2 Inheritance"
      ]
    },
    {
      "metadata": {
        "id": "DyhauP6E3NTB",
        "colab_type": "text"
      },
      "cell_type": "markdown",
      "source": [
        "Once a class is defined it models a concept. It is useful to extend a class behavior to model a less general concept. Say we need to model a Student, but we know that every student is also a Person so we shouldn't model the Person again but inherit from it instead."
      ]
    },
    {
      "metadata": {
        "id": "qvu48yvn3NTD",
        "colab_type": "code",
        "colab": {
          "base_uri": "https://localhost:8080/",
          "height": 84
        },
        "outputId": "8a532af1-ee84-4e3a-f9a8-7f8bbd888401"
      },
      "cell_type": "code",
      "source": [
        "class Student(Person):\n",
        "    def __init__(self, student_id, *args, **kwargs):\n",
        "        super(Student, self).__init__(*args, **kwargs)\n",
        "        self._student_id = student_id\n",
        "        \n",
        "charlie = Student(1, 'Charlie', 'Brown', 2006)\n",
        "print(charlie)\n",
        "print(type(charlie))\n",
        "print(isinstance(charlie, Person))\n",
        "print(isinstance(charlie, object))\n"
      ],
      "execution_count": 17,
      "outputs": [
        {
          "output_type": "stream",
          "text": [
            "Charlie Brown and was born 2006.\n",
            "<class '__main__.Student'>\n",
            "True\n",
            "True\n"
          ],
          "name": "stdout"
        }
      ]
    },
    {
      "metadata": {
        "id": "Jvk06Dds3NTG",
        "colab_type": "text"
      },
      "cell_type": "markdown",
      "source": [
        "Charlie now has the same behavior of a Person, but his state has also a student ID. A Person is one of the base classes of Student and Student is one of the sub classes of Person. Be aware that a subclass knows about its superclasses but the converse isn't true.\n",
        "\n",
        "A sub class doesn't only inherits from its base classes, but from its base classes too, forming an inheritance tree that starts from a object (every class base class).\n",
        "\n",
        "    super(Class, instance)\n",
        "    \n",
        "is a function that returns a proxy-object that delegates method calls to a parent or sibling class of type.\n",
        "So we used it to access Person's `__init__`."
      ]
    },
    {
      "metadata": {
        "id": "D6CXDvUi3NTG",
        "colab_type": "text"
      },
      "cell_type": "markdown",
      "source": [
        "### 2.1 Overriding methods"
      ]
    },
    {
      "metadata": {
        "id": "a3J1dRnM3NTH",
        "colab_type": "text"
      },
      "cell_type": "markdown",
      "source": [
        "Inheritance allows to add new methods to a subclass but often is useful to change the behavior of a method defined in the superclass. To override a method just define it again."
      ]
    },
    {
      "metadata": {
        "id": "WOc4--Xv3NTI",
        "colab_type": "code",
        "colab": {
          "base_uri": "https://localhost:8080/",
          "height": 34
        },
        "outputId": "7aad72ef-88a1-435b-c0d7-8c117cf9a318"
      },
      "cell_type": "code",
      "source": [
        "class Student(Person):\n",
        "    def __init__(self, student_id, *args, **kwargs):\n",
        "        super(Student, self).__init__(*args, **kwargs)\n",
        "        self._student_id = student_id\n",
        "        \n",
        "    def __str__(self):\n",
        "        return super(Student, self).__str__() + \" And has ID: %d\" % self._student_id\n",
        "        \n",
        "charlie = Student(1, 'Charlie', 'Brown', 2006)\n",
        "print(charlie)\n"
      ],
      "execution_count": 18,
      "outputs": [
        {
          "output_type": "stream",
          "text": [
            "Charlie Brown and was born 2006. And has ID: 1\n"
          ],
          "name": "stdout"
        }
      ]
    },
    {
      "metadata": {
        "id": "lqxn_mTF3NTK",
        "colab_type": "text"
      },
      "cell_type": "markdown",
      "source": [
        "We defined `__str__` again overriding the one wrote in Person, but we wanted to extend it, so we used super to achieve our goal."
      ]
    },
    {
      "metadata": {
        "id": "xsvN4D9k3NTL",
        "colab_type": "text"
      },
      "cell_type": "markdown",
      "source": [
        "## 3 Encapsulation"
      ]
    },
    {
      "metadata": {
        "id": "O95Sl0Sg3NTM",
        "colab_type": "text"
      },
      "cell_type": "markdown",
      "source": [
        "Encapsulation is an another powerful way to extend a class which consists on wrapping an object with a second one.\n",
        "There are two main reasons to use encapsulation:\n",
        "* Composition\n",
        "* Dynamic Extension\n"
      ]
    },
    {
      "metadata": {
        "id": "CDIlQHWd3NTM",
        "colab_type": "text"
      },
      "cell_type": "markdown",
      "source": [
        "### 3.1 Composition"
      ]
    },
    {
      "metadata": {
        "id": "vY3yLcXG3NTN",
        "colab_type": "text"
      },
      "cell_type": "markdown",
      "source": [
        "The abstraction process relies on creating a simplified model that remove useless details from a concept. In order to be simplified, a model should be described in terms of other simpler concepts.\n",
        "For example, we can say that a car is composed by:\n",
        "* Tyres\n",
        "* Engine\n",
        "* Body\n",
        "\n",
        "And break down each one of these elements in simpler parts until we reach primitive data."
      ]
    },
    {
      "metadata": {
        "id": "Ekp5-tc43NTN",
        "colab_type": "code",
        "colab": {
          "base_uri": "https://localhost:8080/",
          "height": 168
        },
        "outputId": "4c04d433-cee2-405e-b80f-a2edde9658d5"
      },
      "cell_type": "code",
      "source": [
        "class Tyres:\n",
        "    def __init__(self, branch, belted_bias, opt_pressure):\n",
        "        self.branch = branch\n",
        "        self.belted_bias = belted_bias\n",
        "        self.opt_pressure = opt_pressure\n",
        "        \n",
        "    def __str__(self):\n",
        "        return (\"Tyres: \\n \\tBranch: \" + self.branch +\n",
        "               \"\\n \\tBelted-bias: \" + str(self.belted_bias) + \n",
        "               \"\\n \\tOptimal pressure: \" + str(self.opt_pressure))\n",
        "        \n",
        "class Engine:\n",
        "    def __init__(self, fuel_type, noise_level):\n",
        "        self.fuel_type = fuel_type\n",
        "        self.noise_level = noise_level\n",
        "        \n",
        "    def __str__(self):\n",
        "        return (\"Engine: \\n \\tFuel type: \" + self.fuel_type +\n",
        "                \"\\n \\tNoise level:\" + str(self.noise_level))\n",
        "        \n",
        "class Body:\n",
        "    def __init__(self, size):\n",
        "        self.size = size\n",
        "        \n",
        "    def __str__(self):\n",
        "        return \"Body:\\n \\tSize: \" + self.size\n",
        "        \n",
        "class Car:\n",
        "    def __init__(self, tyres, engine, body):\n",
        "        self.tyres = tyres\n",
        "        self.engine = engine\n",
        "        self.body = body\n",
        "        \n",
        "    def __str__(self):\n",
        "        return str(self.tyres) + \"\\n\" + str(self.engine) + \"\\n\" + str(self.body)\n",
        "\n",
        "        \n",
        "t = Tyres('Pirelli', True, 2.0)\n",
        "e = Engine('Diesel', 3)\n",
        "b = Body('Medium')\n",
        "c = Car(t, e, b)\n",
        "print(c)"
      ],
      "execution_count": 19,
      "outputs": [
        {
          "output_type": "stream",
          "text": [
            "Tyres: \n",
            " \tBranch: Pirelli\n",
            " \tBelted-bias: True\n",
            " \tOptimal pressure: 2.0\n",
            "Engine: \n",
            " \tFuel type: Diesel\n",
            " \tNoise level:3\n",
            "Body:\n",
            " \tSize: Medium\n"
          ],
          "name": "stdout"
        }
      ]
    },
    {
      "metadata": {
        "id": "2YhlVVGt3NTR",
        "colab_type": "text"
      },
      "cell_type": "markdown",
      "source": [
        "### 3.2 Dynamic Extension"
      ]
    },
    {
      "metadata": {
        "id": "dqb0emKb3NTR",
        "colab_type": "text"
      },
      "cell_type": "markdown",
      "source": [
        "Sometimes it's necessary to model a concept that may be a subclass of another one, but it isn't possible to know which class should be its superclass until runtime."
      ]
    },
    {
      "metadata": {
        "id": "5BOeSiVx3NTS",
        "colab_type": "text"
      },
      "cell_type": "markdown",
      "source": [
        "#### 3.2.1 Example"
      ]
    },
    {
      "metadata": {
        "id": "y4NBlYul3NTS",
        "colab_type": "text"
      },
      "cell_type": "markdown",
      "source": [
        "Suppose we want to model a simple dog school that trains instructors too. It will be nice to re-use Person and Student but students can be dogs or peoples. So we can remodel it this way:"
      ]
    },
    {
      "metadata": {
        "id": "5M5qHKvK3NTU",
        "colab_type": "code",
        "colab": {
          "base_uri": "https://localhost:8080/",
          "height": 34
        },
        "outputId": "126db61e-89c2-4cf6-e752-fa097a22b543"
      },
      "cell_type": "code",
      "source": [
        "class Dog:\n",
        "    def __init__(self, name, year_of_birth, breed):\n",
        "        self._name = name\n",
        "        self._year_of_birth = year_of_birth\n",
        "        self._breed = breed\n",
        "\n",
        "    def __str__(self):\n",
        "        return \"%s is a %s born in %d.\" % (self._name, self._breed, self._year_of_birth)\n",
        "\n",
        "kudrjavka = Dog(\"Kudrjavka\", 1954, \"Laika\")\n",
        "print(kudrjavka)"
      ],
      "execution_count": 21,
      "outputs": [
        {
          "output_type": "stream",
          "text": [
            "Kudrjavka is a Laika born in 1954.\n"
          ],
          "name": "stdout"
        }
      ]
    },
    {
      "metadata": {
        "id": "4oo2e_kL3NTW",
        "colab_type": "code",
        "colab": {
          "base_uri": "https://localhost:8080/",
          "height": 229
        },
        "outputId": "f1211e21-35bf-48f1-95a9-5c68fb217e92"
      },
      "cell_type": "code",
      "source": [
        "class Student:\n",
        "    def __init__(self, anagraphic, student_id):\n",
        "        self._anagraphic = anagraphic\n",
        "        self._student_id = student_id\n",
        "    def __str__(self):\n",
        "        return str(self._anagraphic) + \" Student ID: %d\" % self._student_id\n",
        "\n",
        "\n",
        "alec_student = Student(alec, 1)\n",
        "kudrjavka_student = Student(kudrjavka, 2)\n",
        "\n",
        "print(alec_student)\n",
        "print(kudrjavka_student)\n"
      ],
      "execution_count": 20,
      "outputs": [
        {
          "output_type": "error",
          "ename": "NameError",
          "evalue": "ignored",
          "traceback": [
            "\u001b[0;31m---------------------------------------------------------------------------\u001b[0m",
            "\u001b[0;31mNameError\u001b[0m                                 Traceback (most recent call last)",
            "\u001b[0;32m<ipython-input-20-c00a4968e3b7>\u001b[0m in \u001b[0;36m<module>\u001b[0;34m()\u001b[0m\n\u001b[1;32m      8\u001b[0m \u001b[0;34m\u001b[0m\u001b[0m\n\u001b[1;32m      9\u001b[0m \u001b[0malec_student\u001b[0m \u001b[0;34m=\u001b[0m \u001b[0mStudent\u001b[0m\u001b[0;34m(\u001b[0m\u001b[0malec\u001b[0m\u001b[0;34m,\u001b[0m \u001b[0;36m1\u001b[0m\u001b[0;34m)\u001b[0m\u001b[0;34m\u001b[0m\u001b[0;34m\u001b[0m\u001b[0m\n\u001b[0;32m---> 10\u001b[0;31m \u001b[0mkudrjavka_student\u001b[0m \u001b[0;34m=\u001b[0m \u001b[0mStudent\u001b[0m\u001b[0;34m(\u001b[0m\u001b[0mkudrjavka\u001b[0m\u001b[0;34m,\u001b[0m \u001b[0;36m2\u001b[0m\u001b[0;34m)\u001b[0m\u001b[0;34m\u001b[0m\u001b[0;34m\u001b[0m\u001b[0m\n\u001b[0m\u001b[1;32m     11\u001b[0m \u001b[0;34m\u001b[0m\u001b[0m\n\u001b[1;32m     12\u001b[0m \u001b[0mprint\u001b[0m\u001b[0;34m(\u001b[0m\u001b[0malec_student\u001b[0m\u001b[0;34m)\u001b[0m\u001b[0;34m\u001b[0m\u001b[0;34m\u001b[0m\u001b[0m\n",
            "\u001b[0;31mNameError\u001b[0m: name 'kudrjavka' is not defined"
          ]
        }
      ]
    },
    {
      "metadata": {
        "id": "Is-F2ien3NTZ",
        "colab_type": "text"
      },
      "cell_type": "markdown",
      "source": [
        "## 4 Polymorphism and DuckTyping"
      ]
    },
    {
      "metadata": {
        "id": "Nq0mnfac3NTZ",
        "colab_type": "text"
      },
      "cell_type": "markdown",
      "source": [
        "`Python` uses dynamic typing which is also called as duck typing. If an object implements a method you can use it, irrespective of the type. This is different from statically typed languages, where the type of a construct need to be explicitly declared. Polymorphism is the ability to use the same syntax for objects of different types:"
      ]
    },
    {
      "metadata": {
        "id": "S40PshgG3NTa",
        "colab_type": "code",
        "colab": {
          "base_uri": "https://localhost:8080/",
          "height": 67
        },
        "outputId": "14cbabff-82b8-4c0c-8919-460509d4f475"
      },
      "cell_type": "code",
      "source": [
        "def summer(a, b):\n",
        "    return a + b\n",
        "\n",
        "print(summer(1, 1))\n",
        "print(summer([\"a\", \"b\", \"c\"], [\"d\", \"e\"]))\n",
        "print(summer(\"abra\", \"cadabra\"))\n"
      ],
      "execution_count": 22,
      "outputs": [
        {
          "output_type": "stream",
          "text": [
            "2\n",
            "['a', 'b', 'c', 'd', 'e']\n",
            "abracadabra\n"
          ],
          "name": "stdout"
        }
      ]
    },
    {
      "metadata": {
        "id": "o9Vni48F3NTc",
        "colab_type": "text"
      },
      "cell_type": "markdown",
      "source": [
        "## 5 How long does a class should be?"
      ]
    },
    {
      "metadata": {
        "id": "n3xrKKfQ3NTc",
        "colab_type": "text"
      },
      "cell_type": "markdown",
      "source": [
        "There is an Object Oriented Programming (OOP) principle called Single Responsibility Principle (SRP) and it states: \"A class should have one single responsibility\" or \"A class should have only one reason to change\". \n",
        "\n",
        "If you come across a class which doesn't follow the SRP principle, you should spilt it. You will be grateful to SRP during your software maintenance. "
      ]
    },
    {
      "metadata": {
        "id": "eqDp3kO-3NTd",
        "colab_type": "text"
      },
      "cell_type": "markdown",
      "source": [
        "# Files\n",
        "\n",
        "Python uses file objects to interact with the external files on your computer. These file objects cab be of any file format on your computer i.e. can be an audio file, a text file, emails, Excel documents, etc. Note that You will probably need to install certain libraries or modules to interact with those various file types, but they are easily available. (We will cover downloading modules later on in the course).\n",
        "\n",
        "Python has a built-in open function that allows us to open and play with basic file types. First we will need a file though. We're going to use some iPython magic to create a text file!\n",
        "\n",
        "## iPython Writing a File"
      ]
    },
    {
      "metadata": {
        "id": "VUIhG16c3NTd",
        "colab_type": "code",
        "colab": {
          "base_uri": "https://localhost:8080/",
          "height": 34
        },
        "outputId": "26a91d9f-65eb-4aae-a23f-9f1493dd79e2"
      },
      "cell_type": "code",
      "source": [
        "%%writefile test.txt\n",
        "Hello, this is a quick test file"
      ],
      "execution_count": 24,
      "outputs": [
        {
          "output_type": "stream",
          "text": [
            "Overwriting test.txt\n"
          ],
          "name": "stdout"
        }
      ]
    },
    {
      "metadata": {
        "id": "AKeg7iBU3NTf",
        "colab_type": "text"
      },
      "cell_type": "markdown",
      "source": [
        "## Python Opening a file\n",
        "\n",
        "We can open a file with the open() function. This function also takes in arguments (also called parameters). Let's see how this is used:"
      ]
    },
    {
      "metadata": {
        "id": "v1fmxoZK3NTg",
        "colab_type": "code",
        "colab": {}
      },
      "cell_type": "code",
      "source": [
        "# Open the text.txt we made earlier\n",
        "my_file = open('test.txt')"
      ],
      "execution_count": 0,
      "outputs": []
    },
    {
      "metadata": {
        "id": "GfNGCErj3NTh",
        "colab_type": "code",
        "colab": {
          "base_uri": "https://localhost:8080/",
          "height": 34
        },
        "outputId": "456d68ec-aeba-4c57-bed0-138a79da878b"
      },
      "cell_type": "code",
      "source": [
        "# We can now read the file\n",
        "my_file.read()"
      ],
      "execution_count": 26,
      "outputs": [
        {
          "output_type": "execute_result",
          "data": {
            "text/plain": [
              "'Hello, this is a quick test file'"
            ]
          },
          "metadata": {
            "tags": []
          },
          "execution_count": 26
        }
      ]
    },
    {
      "metadata": {
        "id": "ClcwQO1e3NTj",
        "colab_type": "code",
        "colab": {
          "base_uri": "https://localhost:8080/",
          "height": 34
        },
        "outputId": "5a1e36ee-fe72-45f8-9dfe-0ff1f5908ef8"
      },
      "cell_type": "code",
      "source": [
        "# But what happens if we try to read it again?\n",
        "my_file.read()"
      ],
      "execution_count": 27,
      "outputs": [
        {
          "output_type": "execute_result",
          "data": {
            "text/plain": [
              "''"
            ]
          },
          "metadata": {
            "tags": []
          },
          "execution_count": 27
        }
      ]
    },
    {
      "metadata": {
        "id": "I0MMYRD13NTn",
        "colab_type": "text"
      },
      "cell_type": "markdown",
      "source": [
        "This happens because you can imagine the reading \"cursor\" is at the end of the file after having read it. So there is nothing left to read. We can reset the \"cursor\" like this:"
      ]
    },
    {
      "metadata": {
        "id": "D8y_APVP3NTn",
        "colab_type": "code",
        "colab": {
          "base_uri": "https://localhost:8080/",
          "height": 34
        },
        "outputId": "74590a36-7373-4d6c-c8d4-2a60a808137b"
      },
      "cell_type": "code",
      "source": [
        "# Seek to the start of file (index 0)\n",
        "my_file.seek(0)"
      ],
      "execution_count": 28,
      "outputs": [
        {
          "output_type": "execute_result",
          "data": {
            "text/plain": [
              "0"
            ]
          },
          "metadata": {
            "tags": []
          },
          "execution_count": 28
        }
      ]
    },
    {
      "metadata": {
        "id": "Tlb6on1m3NTp",
        "colab_type": "code",
        "colab": {
          "base_uri": "https://localhost:8080/",
          "height": 34
        },
        "outputId": "f08b6f1a-3ed7-46c1-d29d-c214922bcdf6"
      },
      "cell_type": "code",
      "source": [
        "# Now read again\n",
        "my_file.read()"
      ],
      "execution_count": 29,
      "outputs": [
        {
          "output_type": "execute_result",
          "data": {
            "text/plain": [
              "'Hello, this is a quick test file'"
            ]
          },
          "metadata": {
            "tags": []
          },
          "execution_count": 29
        }
      ]
    },
    {
      "metadata": {
        "id": "v3l19fra3NTs",
        "colab_type": "text"
      },
      "cell_type": "markdown",
      "source": [
        "In order to not have to reset every time, we can also use the readlines method. Use caution with large files, since everything will be held in memory. We will learn how to iterate over large files later in the course."
      ]
    },
    {
      "metadata": {
        "id": "kUOOSL-23NTt",
        "colab_type": "code",
        "colab": {},
        "outputId": "8e5d84a9-128a-487f-90ae-383467b6ab81"
      },
      "cell_type": "code",
      "source": [
        "# Seek to the start of file (index 0)\n",
        "my_file.seek(0)"
      ],
      "execution_count": 0,
      "outputs": [
        {
          "output_type": "execute_result",
          "data": {
            "text/plain": [
              "0"
            ]
          },
          "metadata": {
            "tags": []
          },
          "execution_count": 40
        }
      ]
    },
    {
      "metadata": {
        "id": "aymw0mU33NTv",
        "colab_type": "code",
        "colab": {
          "base_uri": "https://localhost:8080/",
          "height": 34
        },
        "outputId": "867598a5-9a88-485d-9159-969b7a09dd96"
      },
      "cell_type": "code",
      "source": [
        "# Readlines returns a list of the lines in the file.\n",
        "my_file.readlines()"
      ],
      "execution_count": 30,
      "outputs": [
        {
          "output_type": "execute_result",
          "data": {
            "text/plain": [
              "[]"
            ]
          },
          "metadata": {
            "tags": []
          },
          "execution_count": 30
        }
      ]
    },
    {
      "metadata": {
        "id": "DyJ-dap63NTy",
        "colab_type": "text"
      },
      "cell_type": "markdown",
      "source": [
        "## Writing to a File\n",
        "\n",
        "By default, using the open() function will only allow us to read the file, we need to pass the argument 'w' to write over the file. For example:"
      ]
    },
    {
      "metadata": {
        "id": "9LkfdQde3NTz",
        "colab_type": "code",
        "colab": {}
      },
      "cell_type": "code",
      "source": [
        "# Add the second argument to the function, 'w' which stands for write\n",
        "my_file = open('test.txt','w+')"
      ],
      "execution_count": 0,
      "outputs": []
    },
    {
      "metadata": {
        "id": "pGhWUqmp3NT0",
        "colab_type": "code",
        "colab": {
          "base_uri": "https://localhost:8080/",
          "height": 34
        },
        "outputId": "4f3fa3a3-5d81-4a2c-b8f3-b276830fca81"
      },
      "cell_type": "code",
      "source": [
        "# Write to the file\n",
        "my_file.write('This is a new line')"
      ],
      "execution_count": 32,
      "outputs": [
        {
          "output_type": "execute_result",
          "data": {
            "text/plain": [
              "18"
            ]
          },
          "metadata": {
            "tags": []
          },
          "execution_count": 32
        }
      ]
    },
    {
      "metadata": {
        "id": "qb7XZT863NT2",
        "colab_type": "code",
        "colab": {
          "base_uri": "https://localhost:8080/",
          "height": 34
        },
        "outputId": "de088d95-e177-42bf-da81-79fe5d35ca4a"
      },
      "cell_type": "code",
      "source": [
        "# Seek to the start of file (index 0)\n",
        "my_file.seek(0)"
      ],
      "execution_count": 33,
      "outputs": [
        {
          "output_type": "execute_result",
          "data": {
            "text/plain": [
              "0"
            ]
          },
          "metadata": {
            "tags": []
          },
          "execution_count": 33
        }
      ]
    },
    {
      "metadata": {
        "id": "qeU7q5Ch3NT4",
        "colab_type": "code",
        "colab": {
          "base_uri": "https://localhost:8080/",
          "height": 34
        },
        "outputId": "ac8cb467-38b6-41d7-90ff-9d31baad32ba"
      },
      "cell_type": "code",
      "source": [
        "# Read the file\n",
        "my_file.read()"
      ],
      "execution_count": 34,
      "outputs": [
        {
          "output_type": "execute_result",
          "data": {
            "text/plain": [
              "'This is a new line'"
            ]
          },
          "metadata": {
            "tags": []
          },
          "execution_count": 34
        }
      ]
    },
    {
      "metadata": {
        "id": "XI_ZfOaR3NT6",
        "colab_type": "text"
      },
      "cell_type": "markdown",
      "source": [
        "## Iterating through a File\n",
        "\n",
        "Let's get a quick preview of a for loop by iterating over a text file. First, let's make a new text file with some iPython Magic:"
      ]
    },
    {
      "metadata": {
        "id": "uXE81kO13NT6",
        "colab_type": "code",
        "colab": {
          "base_uri": "https://localhost:8080/",
          "height": 34
        },
        "outputId": "9aa7bf16-ad4a-4bd7-c68a-419a33fd5ccd"
      },
      "cell_type": "code",
      "source": [
        "%%writefile test.txt\n",
        "First Line\n",
        "Second Line"
      ],
      "execution_count": 35,
      "outputs": [
        {
          "output_type": "stream",
          "text": [
            "Overwriting test.txt\n"
          ],
          "name": "stdout"
        }
      ]
    },
    {
      "metadata": {
        "id": "sFvcrtYu3NT-",
        "colab_type": "text"
      },
      "cell_type": "markdown",
      "source": [
        "Now we can use a little bit of flow to tell the program to for through every line of the file and do something:"
      ]
    },
    {
      "metadata": {
        "id": "YtVcLiAT3NT_",
        "colab_type": "code",
        "colab": {
          "base_uri": "https://localhost:8080/",
          "height": 67
        },
        "outputId": "3f0d0b5d-8aeb-4819-c7e8-3beb4683d37f"
      },
      "cell_type": "code",
      "source": [
        "for line in open('test.txt'):\n",
        "    print(line)"
      ],
      "execution_count": 36,
      "outputs": [
        {
          "output_type": "stream",
          "text": [
            "First Line\n",
            "\n",
            "Second Line\n"
          ],
          "name": "stdout"
        }
      ]
    },
    {
      "metadata": {
        "id": "bMRUVsrF3NUB",
        "colab_type": "code",
        "colab": {
          "base_uri": "https://localhost:8080/",
          "height": 67
        },
        "outputId": "6eda8af5-8098-485e-fbc2-6404b3447a54"
      },
      "cell_type": "code",
      "source": [
        "# Pertaining to the first point above\n",
        "for asdf in open('test.txt'):\n",
        "    print(asdf)"
      ],
      "execution_count": 37,
      "outputs": [
        {
          "output_type": "stream",
          "text": [
            "First Line\n",
            "\n",
            "Second Line\n"
          ],
          "name": "stdout"
        }
      ]
    },
    {
      "metadata": {
        "id": "E4i03_W93NUD",
        "colab_type": "text"
      },
      "cell_type": "markdown",
      "source": [
        "# StringIO \n",
        "\n",
        "The StringIO module implements an in-memory filelike object. This object can then be used as input or output to most functions that would expect a standard file object.\n",
        "\n",
        "The best way to show this is by example:"
      ]
    },
    {
      "metadata": {
        "id": "_QIRv5Kw3NUD",
        "colab_type": "code",
        "colab": {}
      },
      "cell_type": "code",
      "source": [
        "from io import StringIO"
      ],
      "execution_count": 0,
      "outputs": []
    },
    {
      "metadata": {
        "id": "r07qAdth3NUG",
        "colab_type": "code",
        "colab": {}
      },
      "cell_type": "code",
      "source": [
        "# Arbitrary String\n",
        "message = 'This is just a normal string.'"
      ],
      "execution_count": 0,
      "outputs": []
    },
    {
      "metadata": {
        "id": "0SbaRytu3NUI",
        "colab_type": "code",
        "colab": {}
      },
      "cell_type": "code",
      "source": [
        "# Use StringIO method to set as file object\n",
        "f = StringIO(message)"
      ],
      "execution_count": 0,
      "outputs": []
    },
    {
      "metadata": {
        "id": "NscNpG8V3NUK",
        "colab_type": "text"
      },
      "cell_type": "markdown",
      "source": [
        "Now we have an object *f* that we will be able to treat just like a file. For example:"
      ]
    },
    {
      "metadata": {
        "id": "aqTiuvoI3NUK",
        "colab_type": "code",
        "colab": {
          "base_uri": "https://localhost:8080/",
          "height": 34
        },
        "outputId": "15ace03d-7dcf-4f90-e295-29dd3644b2e1"
      },
      "cell_type": "code",
      "source": [
        "f.read()"
      ],
      "execution_count": 44,
      "outputs": [
        {
          "output_type": "execute_result",
          "data": {
            "text/plain": [
              "'This is just a normal string.'"
            ]
          },
          "metadata": {
            "tags": []
          },
          "execution_count": 44
        }
      ]
    },
    {
      "metadata": {
        "id": "DbQfJ8Om3NUM",
        "colab_type": "text"
      },
      "cell_type": "markdown",
      "source": [
        "We can also write to it"
      ]
    },
    {
      "metadata": {
        "id": "A4-jc3ga3NUM",
        "colab_type": "code",
        "colab": {
          "base_uri": "https://localhost:8080/",
          "height": 34
        },
        "outputId": "8f01f6bd-a5e5-4e35-f61c-ce6a80569835"
      },
      "cell_type": "code",
      "source": [
        "f.write(' Second line written to file like object')"
      ],
      "execution_count": 45,
      "outputs": [
        {
          "output_type": "execute_result",
          "data": {
            "text/plain": [
              "40"
            ]
          },
          "metadata": {
            "tags": []
          },
          "execution_count": 45
        }
      ]
    },
    {
      "metadata": {
        "id": "skYNvIFQ3NUO",
        "colab_type": "code",
        "colab": {
          "base_uri": "https://localhost:8080/",
          "height": 34
        },
        "outputId": "2dc34d11-6ff7-4ce0-a3dc-4431e9419cf8"
      },
      "cell_type": "code",
      "source": [
        "# Reset cursor just like you would a file\n",
        "f.seek(0)"
      ],
      "execution_count": 46,
      "outputs": [
        {
          "output_type": "execute_result",
          "data": {
            "text/plain": [
              "0"
            ]
          },
          "metadata": {
            "tags": []
          },
          "execution_count": 46
        }
      ]
    },
    {
      "metadata": {
        "id": "g9K7gKxX3NUQ",
        "colab_type": "code",
        "colab": {
          "base_uri": "https://localhost:8080/",
          "height": 34
        },
        "outputId": "0e4bacdd-c2fa-40e6-a6ee-23fd51f12bb0"
      },
      "cell_type": "code",
      "source": [
        "# Read again\n",
        "f.read()"
      ],
      "execution_count": 47,
      "outputs": [
        {
          "output_type": "execute_result",
          "data": {
            "text/plain": [
              "'This is just a normal string. Second line written to file like object'"
            ]
          },
          "metadata": {
            "tags": []
          },
          "execution_count": 47
        }
      ]
    }
  ]
}