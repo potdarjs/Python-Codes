{
  "nbformat": 4,
  "nbformat_minor": 0,
  "metadata": {
    "kernelspec": {
      "display_name": "Python 3",
      "language": "python",
      "name": "python3"
    },
    "language_info": {
      "codemirror_mode": {
        "name": "ipython",
        "version": 3
      },
      "file_extension": ".py",
      "mimetype": "text/x-python",
      "name": "python",
      "nbconvert_exporter": "python",
      "pygments_lexer": "ipython3",
      "version": "3.6.5"
    },
    "latex_envs": {
      "LaTeX_envs_menu_present": true,
      "autoclose": false,
      "autocomplete": true,
      "bibliofile": "biblio.bib",
      "cite_by": "apalike",
      "current_citInitial": 1,
      "eqLabelWithNumbers": true,
      "eqNumInitial": 1,
      "hotkeys": {
        "equation": "Ctrl-E",
        "itemize": "Ctrl-I"
      },
      "labels_anchors": false,
      "latex_user_defs": false,
      "report_style_numbering": false,
      "user_envs_cfg": false
    },
    "toc": {
      "base_numbering": 1,
      "nav_menu": {},
      "number_sections": true,
      "sideBar": true,
      "skip_h1_title": false,
      "title_cell": "Table of Contents",
      "title_sidebar": "Contents",
      "toc_cell": false,
      "toc_position": {},
      "toc_section_display": true,
      "toc_window_display": false
    },
    "colab": {
      "name": "Predicting players rating.ipynb",
      "version": "0.3.2",
      "provenance": [],
      "include_colab_link": true
    }
  },
  "cells": [
    {
      "cell_type": "markdown",
      "metadata": {
        "id": "view-in-github",
        "colab_type": "text"
      },
      "source": [
        "<a href=\"https://colab.research.google.com/github/potdarjs/Python-Codes/blob/master/Predicting_players_rating.ipynb\" target=\"_parent\"><img src=\"https://colab.research.google.com/assets/colab-badge.svg\" alt=\"Open In Colab\"/></a>"
      ]
    },
    {
      "cell_type": "markdown",
      "metadata": {
        "id": "gWk0qzq_16o2",
        "colab_type": "text"
      },
      "source": [
        "# PROJECT 2 - PREDICTING PLAYER RATING"
      ]
    },
    {
      "cell_type": "markdown",
      "metadata": {
        "id": "ugbolfJU16o4",
        "colab_type": "text"
      },
      "source": [
        "## Objective of the Project is to predict overall rating of soccer player"
      ]
    },
    {
      "cell_type": "markdown",
      "metadata": {
        "id": "0_ATqN8p16o5",
        "colab_type": "text"
      },
      "source": [
        "### About Dataset"
      ]
    },
    {
      "cell_type": "markdown",
      "metadata": {
        "id": "47ssNBMs16o5",
        "colab_type": "text"
      },
      "source": [
        "The dataset is from European Soccer Database. contains statistics of about 25,000 football matches, from the top football league of 11 European Countries. It covers seasons from 2008 to 2016 and contains match statistics (i.e: scores, corners, fouls etc...) as well as the team formations, with player names and a pair of coordinates to indicate their position on the pitch.\n",
        "+25,000 matches\n",
        "+10,000 players\n",
        "11 European Countries with their lead championship\n",
        "Seasons 2008 to 2016\n",
        "Players and Teams' attributes* sourced from EA Sports' FIFA video game series, including the\n",
        "weekly updates\n",
        "Team line up with squad formation (X, Y coordinates)\n",
        "Betting odds from up to 10 providers\n",
        "Detailed match events (goal types, possession, corner, cross, fouls, cards etc...) for +10,000\n",
        "matches\n",
        "The dataset also has a set of about 35 statistics for each player, derived from EA Sports' FIFA video games. It is not just the stats that come with a new version of the game but also the weekly updates."
      ]
    },
    {
      "cell_type": "markdown",
      "metadata": {
        "id": "Gyx9zfzx16o6",
        "colab_type": "text"
      },
      "source": [
        "### Import  Libraries"
      ]
    },
    {
      "cell_type": "code",
      "metadata": {
        "id": "f_zUm7Pk16o7",
        "colab_type": "code",
        "colab": {}
      },
      "source": [
        "# Core Libraries - Data manipulation and analysis\n",
        "import pandas as pd\n",
        "import numpy as np\n",
        "import math\n",
        "from math import sqrt\n",
        "import matplotlib.pyplot as plt\n",
        "import seaborn as sns\n",
        "\n",
        "# Core Libraries - loading data from sqlite database\n",
        "import sqlite3\n",
        " \n",
        "# Core Libraries - Machine Learning\n",
        "import sklearn\n",
        "\n",
        "## Importing train_test_split,cross_val_score,GridSearchCV,KFold, RandomizedSearchCV - Validation and OptimizationC\n",
        "from sklearn.model_selection import ShuffleSplit, train_test_split,cross_val_score,GridSearchCV,KFold, RandomizedSearchCV\n",
        "\n",
        "# Importing Regressors - Modelling\n",
        "from sklearn.linear_model import LinearRegression, Ridge, Lasso, ElasticNet\n",
        "from sklearn.tree import DecisionTreeRegressor\n",
        "from sklearn.ensemble import GradientBoostingRegressor, RandomForestRegressor, AdaBoostRegressor\n",
        "\n",
        "# Importing Regression Metrics - Performance Evaluation\n",
        "from sklearn.metrics import mean_squared_error\n",
        "from sklearn.metrics import r2_score\n",
        "\n",
        "import pickle\n",
        "\n",
        "# Warnings Library - Ignore warnings\n",
        "import warnings\n",
        "warnings.filterwarnings('ignore')"
      ],
      "execution_count": 0,
      "outputs": []
    },
    {
      "cell_type": "code",
      "metadata": {
        "id": "b-MPadmi16o_",
        "colab_type": "code",
        "colab": {}
      },
      "source": [
        "%matplotlib inline"
      ],
      "execution_count": 0,
      "outputs": []
    },
    {
      "cell_type": "code",
      "metadata": {
        "id": "7cfRy7-w16pC",
        "colab_type": "code",
        "colab": {}
      },
      "source": [
        "# Create your connection\n",
        "cnx = sqlite3.connect('database.sqlite')"
      ],
      "execution_count": 0,
      "outputs": []
    },
    {
      "cell_type": "code",
      "metadata": {
        "id": "UjXhYlda16pE",
        "colab_type": "code",
        "colab": {
          "base_uri": "https://localhost:8080/",
          "height": 421
        },
        "outputId": "610dc289-2815-4c3a-aaee-33ce6abcf871"
      },
      "source": [
        "# Loading the dataframe with the data from the Player_Attributes Table\n",
        "player_attrib = pd.read_sql_query(\"SELECT * FROM Player_Attributes\", cnx)"
      ],
      "execution_count": 4,
      "outputs": [
        {
          "output_type": "error",
          "ename": "DatabaseError",
          "evalue": "ignored",
          "traceback": [
            "\u001b[0;31m---------------------------------------------------------------------------\u001b[0m",
            "\u001b[0;31mOperationalError\u001b[0m                          Traceback (most recent call last)",
            "\u001b[0;32m/usr/local/lib/python3.6/dist-packages/pandas/io/sql.py\u001b[0m in \u001b[0;36mexecute\u001b[0;34m(self, *args, **kwargs)\u001b[0m\n\u001b[1;32m   1430\u001b[0m             \u001b[0;32melse\u001b[0m\u001b[0;34m:\u001b[0m\u001b[0;34m\u001b[0m\u001b[0;34m\u001b[0m\u001b[0m\n\u001b[0;32m-> 1431\u001b[0;31m                 \u001b[0mcur\u001b[0m\u001b[0;34m.\u001b[0m\u001b[0mexecute\u001b[0m\u001b[0;34m(\u001b[0m\u001b[0;34m*\u001b[0m\u001b[0margs\u001b[0m\u001b[0;34m)\u001b[0m\u001b[0;34m\u001b[0m\u001b[0;34m\u001b[0m\u001b[0m\n\u001b[0m\u001b[1;32m   1432\u001b[0m             \u001b[0;32mreturn\u001b[0m \u001b[0mcur\u001b[0m\u001b[0;34m\u001b[0m\u001b[0;34m\u001b[0m\u001b[0m\n",
            "\u001b[0;31mOperationalError\u001b[0m: no such table: Player_Attributes",
            "\nDuring handling of the above exception, another exception occurred:\n",
            "\u001b[0;31mDatabaseError\u001b[0m                             Traceback (most recent call last)",
            "\u001b[0;32m<ipython-input-4-fca3a1332239>\u001b[0m in \u001b[0;36m<module>\u001b[0;34m()\u001b[0m\n\u001b[0;32m----> 1\u001b[0;31m \u001b[0mplayer_attrib\u001b[0m \u001b[0;34m=\u001b[0m \u001b[0mpd\u001b[0m\u001b[0;34m.\u001b[0m\u001b[0mread_sql_query\u001b[0m\u001b[0;34m(\u001b[0m\u001b[0;34m\"SELECT * FROM Player_Attributes\"\u001b[0m\u001b[0;34m,\u001b[0m \u001b[0mcnx\u001b[0m\u001b[0;34m)\u001b[0m\u001b[0;34m\u001b[0m\u001b[0;34m\u001b[0m\u001b[0m\n\u001b[0m",
            "\u001b[0;32m/usr/local/lib/python3.6/dist-packages/pandas/io/sql.py\u001b[0m in \u001b[0;36mread_sql_query\u001b[0;34m(sql, con, index_col, coerce_float, params, parse_dates, chunksize)\u001b[0m\n\u001b[1;32m    312\u001b[0m     return pandas_sql.read_query(\n\u001b[1;32m    313\u001b[0m         \u001b[0msql\u001b[0m\u001b[0;34m,\u001b[0m \u001b[0mindex_col\u001b[0m\u001b[0;34m=\u001b[0m\u001b[0mindex_col\u001b[0m\u001b[0;34m,\u001b[0m \u001b[0mparams\u001b[0m\u001b[0;34m=\u001b[0m\u001b[0mparams\u001b[0m\u001b[0;34m,\u001b[0m \u001b[0mcoerce_float\u001b[0m\u001b[0;34m=\u001b[0m\u001b[0mcoerce_float\u001b[0m\u001b[0;34m,\u001b[0m\u001b[0;34m\u001b[0m\u001b[0;34m\u001b[0m\u001b[0m\n\u001b[0;32m--> 314\u001b[0;31m         parse_dates=parse_dates, chunksize=chunksize)\n\u001b[0m\u001b[1;32m    315\u001b[0m \u001b[0;34m\u001b[0m\u001b[0m\n\u001b[1;32m    316\u001b[0m \u001b[0;34m\u001b[0m\u001b[0m\n",
            "\u001b[0;32m/usr/local/lib/python3.6/dist-packages/pandas/io/sql.py\u001b[0m in \u001b[0;36mread_query\u001b[0;34m(self, sql, index_col, coerce_float, params, parse_dates, chunksize)\u001b[0m\n\u001b[1;32m   1466\u001b[0m \u001b[0;34m\u001b[0m\u001b[0m\n\u001b[1;32m   1467\u001b[0m         \u001b[0margs\u001b[0m \u001b[0;34m=\u001b[0m \u001b[0m_convert_params\u001b[0m\u001b[0;34m(\u001b[0m\u001b[0msql\u001b[0m\u001b[0;34m,\u001b[0m \u001b[0mparams\u001b[0m\u001b[0;34m)\u001b[0m\u001b[0;34m\u001b[0m\u001b[0;34m\u001b[0m\u001b[0m\n\u001b[0;32m-> 1468\u001b[0;31m         \u001b[0mcursor\u001b[0m \u001b[0;34m=\u001b[0m \u001b[0mself\u001b[0m\u001b[0;34m.\u001b[0m\u001b[0mexecute\u001b[0m\u001b[0;34m(\u001b[0m\u001b[0;34m*\u001b[0m\u001b[0margs\u001b[0m\u001b[0;34m)\u001b[0m\u001b[0;34m\u001b[0m\u001b[0;34m\u001b[0m\u001b[0m\n\u001b[0m\u001b[1;32m   1469\u001b[0m         \u001b[0mcolumns\u001b[0m \u001b[0;34m=\u001b[0m \u001b[0;34m[\u001b[0m\u001b[0mcol_desc\u001b[0m\u001b[0;34m[\u001b[0m\u001b[0;36m0\u001b[0m\u001b[0;34m]\u001b[0m \u001b[0;32mfor\u001b[0m \u001b[0mcol_desc\u001b[0m \u001b[0;32min\u001b[0m \u001b[0mcursor\u001b[0m\u001b[0;34m.\u001b[0m\u001b[0mdescription\u001b[0m\u001b[0;34m]\u001b[0m\u001b[0;34m\u001b[0m\u001b[0;34m\u001b[0m\u001b[0m\n\u001b[1;32m   1470\u001b[0m \u001b[0;34m\u001b[0m\u001b[0m\n",
            "\u001b[0;32m/usr/local/lib/python3.6/dist-packages/pandas/io/sql.py\u001b[0m in \u001b[0;36mexecute\u001b[0;34m(self, *args, **kwargs)\u001b[0m\n\u001b[1;32m   1443\u001b[0m                 \"Execution failed on sql '{sql}': {exc}\".format(\n\u001b[1;32m   1444\u001b[0m                     sql=args[0], exc=exc))\n\u001b[0;32m-> 1445\u001b[0;31m             \u001b[0mraise_with_traceback\u001b[0m\u001b[0;34m(\u001b[0m\u001b[0mex\u001b[0m\u001b[0;34m)\u001b[0m\u001b[0;34m\u001b[0m\u001b[0;34m\u001b[0m\u001b[0m\n\u001b[0m\u001b[1;32m   1446\u001b[0m \u001b[0;34m\u001b[0m\u001b[0m\n\u001b[1;32m   1447\u001b[0m     \u001b[0;34m@\u001b[0m\u001b[0mstaticmethod\u001b[0m\u001b[0;34m\u001b[0m\u001b[0;34m\u001b[0m\u001b[0m\n",
            "\u001b[0;32m/usr/local/lib/python3.6/dist-packages/pandas/compat/__init__.py\u001b[0m in \u001b[0;36mraise_with_traceback\u001b[0;34m(exc, traceback)\u001b[0m\n\u001b[1;32m    418\u001b[0m         \u001b[0;32mif\u001b[0m \u001b[0mtraceback\u001b[0m \u001b[0;34m==\u001b[0m \u001b[0mEllipsis\u001b[0m\u001b[0;34m:\u001b[0m\u001b[0;34m\u001b[0m\u001b[0;34m\u001b[0m\u001b[0m\n\u001b[1;32m    419\u001b[0m             \u001b[0m_\u001b[0m\u001b[0;34m,\u001b[0m \u001b[0m_\u001b[0m\u001b[0;34m,\u001b[0m \u001b[0mtraceback\u001b[0m \u001b[0;34m=\u001b[0m \u001b[0msys\u001b[0m\u001b[0;34m.\u001b[0m\u001b[0mexc_info\u001b[0m\u001b[0;34m(\u001b[0m\u001b[0;34m)\u001b[0m\u001b[0;34m\u001b[0m\u001b[0;34m\u001b[0m\u001b[0m\n\u001b[0;32m--> 420\u001b[0;31m         \u001b[0;32mraise\u001b[0m \u001b[0mexc\u001b[0m\u001b[0;34m.\u001b[0m\u001b[0mwith_traceback\u001b[0m\u001b[0;34m(\u001b[0m\u001b[0mtraceback\u001b[0m\u001b[0;34m)\u001b[0m\u001b[0;34m\u001b[0m\u001b[0;34m\u001b[0m\u001b[0m\n\u001b[0m\u001b[1;32m    421\u001b[0m \u001b[0;32melse\u001b[0m\u001b[0;34m:\u001b[0m\u001b[0;34m\u001b[0m\u001b[0;34m\u001b[0m\u001b[0m\n\u001b[1;32m    422\u001b[0m     \u001b[0;31m# this version of raise is a syntax error in Python 3\u001b[0m\u001b[0;34m\u001b[0m\u001b[0;34m\u001b[0m\u001b[0;34m\u001b[0m\u001b[0m\n",
            "\u001b[0;32m/usr/local/lib/python3.6/dist-packages/pandas/io/sql.py\u001b[0m in \u001b[0;36mexecute\u001b[0;34m(self, *args, **kwargs)\u001b[0m\n\u001b[1;32m   1429\u001b[0m                 \u001b[0mcur\u001b[0m\u001b[0;34m.\u001b[0m\u001b[0mexecute\u001b[0m\u001b[0;34m(\u001b[0m\u001b[0;34m*\u001b[0m\u001b[0margs\u001b[0m\u001b[0;34m,\u001b[0m \u001b[0;34m**\u001b[0m\u001b[0mkwargs\u001b[0m\u001b[0;34m)\u001b[0m\u001b[0;34m\u001b[0m\u001b[0;34m\u001b[0m\u001b[0m\n\u001b[1;32m   1430\u001b[0m             \u001b[0;32melse\u001b[0m\u001b[0;34m:\u001b[0m\u001b[0;34m\u001b[0m\u001b[0;34m\u001b[0m\u001b[0m\n\u001b[0;32m-> 1431\u001b[0;31m                 \u001b[0mcur\u001b[0m\u001b[0;34m.\u001b[0m\u001b[0mexecute\u001b[0m\u001b[0;34m(\u001b[0m\u001b[0;34m*\u001b[0m\u001b[0margs\u001b[0m\u001b[0;34m)\u001b[0m\u001b[0;34m\u001b[0m\u001b[0;34m\u001b[0m\u001b[0m\n\u001b[0m\u001b[1;32m   1432\u001b[0m             \u001b[0;32mreturn\u001b[0m \u001b[0mcur\u001b[0m\u001b[0;34m\u001b[0m\u001b[0;34m\u001b[0m\u001b[0m\n\u001b[1;32m   1433\u001b[0m         \u001b[0;32mexcept\u001b[0m \u001b[0mException\u001b[0m \u001b[0;32mas\u001b[0m \u001b[0mexc\u001b[0m\u001b[0;34m:\u001b[0m\u001b[0;34m\u001b[0m\u001b[0;34m\u001b[0m\u001b[0m\n",
            "\u001b[0;31mDatabaseError\u001b[0m: Execution failed on sql 'SELECT * FROM Player_Attributes': no such table: Player_Attributes"
          ]
        }
      ]
    },
    {
      "cell_type": "markdown",
      "metadata": {
        "id": "kDDGGMaI16pH",
        "colab_type": "text"
      },
      "source": [
        "# Understand Dataset and Data"
      ]
    },
    {
      "cell_type": "markdown",
      "metadata": {
        "id": "WxEicNCN16pI",
        "colab_type": "text"
      },
      "source": [
        "__Basic Data about the dataframe are the columns, shape, top 5 and bottom 5 rows, its column types and null(and non-null) values__ "
      ]
    },
    {
      "cell_type": "code",
      "metadata": {
        "id": "UiwlkgZY16pI",
        "colab_type": "code",
        "colab": {}
      },
      "source": [
        "print(player_attrib.info())"
      ],
      "execution_count": 0,
      "outputs": []
    },
    {
      "cell_type": "code",
      "metadata": {
        "id": "7YvzaSh616pN",
        "colab_type": "code",
        "colab": {}
      },
      "source": [
        "player_attrib.head()"
      ],
      "execution_count": 0,
      "outputs": []
    },
    {
      "cell_type": "code",
      "metadata": {
        "id": "1JEPXULX16pR",
        "colab_type": "code",
        "colab": {}
      },
      "source": [
        "player_attrib.tail()"
      ],
      "execution_count": 0,
      "outputs": []
    },
    {
      "cell_type": "markdown",
      "metadata": {
        "id": "f0dMvl8V16pU",
        "colab_type": "text"
      },
      "source": [
        "___There are null values in the dataset which need to be removed or imputed___"
      ]
    },
    {
      "cell_type": "code",
      "metadata": {
        "id": "J8kPXsjm16pV",
        "colab_type": "code",
        "colab": {}
      },
      "source": [
        "player_attrib.get_dtype_counts()"
      ],
      "execution_count": 0,
      "outputs": []
    },
    {
      "cell_type": "markdown",
      "metadata": {
        "id": "JFCYWuDO16pY",
        "colab_type": "text"
      },
      "source": [
        "# Data Cleaning"
      ]
    },
    {
      "cell_type": "markdown",
      "metadata": {
        "id": "D0BzLhQK16pZ",
        "colab_type": "text"
      },
      "source": [
        "__Find rows containing null values or zeros and then either impute or remove them__"
      ]
    },
    {
      "cell_type": "markdown",
      "metadata": {
        "id": "gZMVUUIN16pa",
        "colab_type": "text"
      },
      "source": [
        "___Checking for columns containing null values___"
      ]
    },
    {
      "cell_type": "code",
      "metadata": {
        "scrolled": false,
        "id": "Xun1OObC16pb",
        "colab_type": "code",
        "colab": {}
      },
      "source": [
        "player_attrib.isna().any() # To look for null element in atleast one row in the dataframe"
      ],
      "execution_count": 0,
      "outputs": []
    },
    {
      "cell_type": "markdown",
      "metadata": {
        "id": "2gQrl41l16pe",
        "colab_type": "text"
      },
      "source": [
        "***All columns in the dataframe have null values except the id, player_fifa_api_id, player_api_id, date columns***"
      ]
    },
    {
      "cell_type": "code",
      "metadata": {
        "id": "jLziQ1nf16pf",
        "colab_type": "code",
        "colab": {}
      },
      "source": [
        "# Checking number of null values in each column  \n",
        "null_info_df = pd.DataFrame(player_attrib.isna().sum())  # Identifying the number of nulls in each column\n",
        "#player_attrib.isnull().sum()\n",
        "null_info_df.columns = [\"total_null_values\"]\n",
        "null_info_df"
      ],
      "execution_count": 0,
      "outputs": []
    },
    {
      "cell_type": "markdown",
      "metadata": {
        "id": "AvTjVWA416pi",
        "colab_type": "text"
      },
      "source": [
        ""
      ]
    },
    {
      "cell_type": "code",
      "metadata": {
        "id": "z0-BNW6Q16pj",
        "colab_type": "code",
        "colab": {}
      },
      "source": [
        "# Checking percentage of null values in each column  \n",
        "null_info_df[\"null_percentage\"] = (player_attrib.isna().sum()/player_attrib.shape[0])*100\n",
        "null_info_df"
      ],
      "execution_count": 0,
      "outputs": []
    },
    {
      "cell_type": "markdown",
      "metadata": {
        "id": "l6K5evEf16pn",
        "colab_type": "text"
      },
      "source": [
        "___Since the number of rows with null values in every column is less than 1.5% of the data, dropping those rows won't have a bearing on the regression model. It also, is better to not impute because we have insufficient information about the data.___"
      ]
    },
    {
      "cell_type": "code",
      "metadata": {
        "id": "-4LCDRek16po",
        "colab_type": "code",
        "colab": {}
      },
      "source": [
        "# Dropping rows containing null values in the dataframe\n",
        "player_attrib.dropna(axis = 0, inplace = True)"
      ],
      "execution_count": 0,
      "outputs": []
    },
    {
      "cell_type": "code",
      "metadata": {
        "id": "UjEC80fS16pq",
        "colab_type": "code",
        "colab": {}
      },
      "source": [
        "player_attrib.shape"
      ],
      "execution_count": 0,
      "outputs": []
    },
    {
      "cell_type": "markdown",
      "metadata": {
        "id": "QaPYRH8c16pv",
        "colab_type": "text"
      },
      "source": [
        "_3624 rows containing one or more null values removed_"
      ]
    },
    {
      "cell_type": "code",
      "metadata": {
        "id": "9R5Kk46R16pw",
        "colab_type": "code",
        "colab": {}
      },
      "source": [
        "# Cross check if the rows containing null values are removed\n",
        "player_attrib.isna().sum() "
      ],
      "execution_count": 0,
      "outputs": []
    },
    {
      "cell_type": "markdown",
      "metadata": {
        "id": "r5wDUIFH16p2",
        "colab_type": "text"
      },
      "source": [
        "___Checking if there are any row values = zero___"
      ]
    },
    {
      "cell_type": "code",
      "metadata": {
        "scrolled": false,
        "id": "8wkf-TqD16p3",
        "colab_type": "code",
        "colab": {}
      },
      "source": [
        "player_attrib.loc[(player_attrib==0).all(axis=1)].shape "
      ],
      "execution_count": 0,
      "outputs": []
    },
    {
      "cell_type": "markdown",
      "metadata": {
        "id": "IDcFfIFC16p7",
        "colab_type": "text"
      },
      "source": [
        "___No zeroes in the dataframe to consider___"
      ]
    },
    {
      "cell_type": "code",
      "metadata": {
        "id": "oNXz00sK16p7",
        "colab_type": "code",
        "colab": {}
      },
      "source": [
        "player_attrib.head()"
      ],
      "execution_count": 0,
      "outputs": []
    },
    {
      "cell_type": "code",
      "metadata": {
        "id": "VgsTHaT716qA",
        "colab_type": "code",
        "colab": {}
      },
      "source": [
        "# Moving overall_rating column to the end of the dataframe\n",
        "cols = list(player_attrib.columns.values) \n",
        "cols.pop(cols.index('overall_rating'))  \n",
        "player_attrib = player_attrib[cols+['overall_rating']]  \n"
      ],
      "execution_count": 0,
      "outputs": []
    },
    {
      "cell_type": "code",
      "metadata": {
        "id": "TOhzbA7b16qD",
        "colab_type": "code",
        "colab": {}
      },
      "source": [
        "player_attrib.columns.values"
      ],
      "execution_count": 0,
      "outputs": []
    },
    {
      "cell_type": "markdown",
      "metadata": {
        "id": "N-9Av88Z16qG",
        "colab_type": "text"
      },
      "source": [
        "## Cleaning Categorical Variables"
      ]
    },
    {
      "cell_type": "code",
      "metadata": {
        "id": "GcRVk9b116qH",
        "colab_type": "code",
        "colab": {}
      },
      "source": [
        "# Get list of the categorical Variables\n",
        "categorical_cols = player_attrib.select_dtypes(include='object').columns.values\n",
        "categorical_cols\n",
        "# OR\n",
        "# categorical_cols = player_attrib.dtypes[player_attrib.dtypes == 'object'].index\n",
        "# categorical_cols"
      ],
      "execution_count": 0,
      "outputs": []
    },
    {
      "cell_type": "code",
      "metadata": {
        "id": "va6TMmKD16qJ",
        "colab_type": "code",
        "colab": {}
      },
      "source": [
        "# Getting a list of all the \n",
        "player_attrib[categorical_cols].get_dtype_counts()"
      ],
      "execution_count": 0,
      "outputs": []
    },
    {
      "cell_type": "code",
      "metadata": {
        "id": "BZKJjKrr16qM",
        "colab_type": "code",
        "colab": {}
      },
      "source": [
        "# Checking the number of unique values in the categorical columns\n",
        "player_attrib[categorical_cols].nunique()"
      ],
      "execution_count": 0,
      "outputs": []
    },
    {
      "cell_type": "code",
      "metadata": {
        "id": "iGC7lZSQ16qP",
        "colab_type": "code",
        "colab": {}
      },
      "source": [
        "# Checking the distribution of the values in the preferred_foot column\n",
        "player_attrib[\"preferred_foot\"].value_counts() "
      ],
      "execution_count": 0,
      "outputs": []
    },
    {
      "cell_type": "markdown",
      "metadata": {
        "id": "WGtKPsw616qR",
        "colab_type": "text"
      },
      "source": [
        "*The preferred_foot column doesn't need cleaning*"
      ]
    },
    {
      "cell_type": "code",
      "metadata": {
        "id": "CozYbq0r16qT",
        "colab_type": "code",
        "colab": {}
      },
      "source": [
        "# Checking the distribution of date column\n",
        "player_attrib[\"date\"].value_counts()"
      ],
      "execution_count": 0,
      "outputs": []
    },
    {
      "cell_type": "markdown",
      "metadata": {
        "id": "QJneumwX16qW",
        "colab_type": "text"
      },
      "source": [
        "The date column item values don't need cleaning\n"
      ]
    },
    {
      "cell_type": "code",
      "metadata": {
        "id": "smODClCk16qW",
        "colab_type": "code",
        "colab": {}
      },
      "source": [
        "# Checking the distribution of the values in the attacking_work_rate column\n",
        "player_attrib[\"attacking_work_rate\"].value_counts()"
      ],
      "execution_count": 0,
      "outputs": []
    },
    {
      "cell_type": "markdown",
      "metadata": {
        "id": "yQX_Jsw116qZ",
        "colab_type": "text"
      },
      "source": [
        "The attacking_work_rate column item values need to be set to medium, low or high as those are the only possible values for attacking_work_rate. \n",
        "\n",
        "Reference: http://www.fifplay.com/encyclopedia/work-rate/\n"
      ]
    },
    {
      "cell_type": "code",
      "metadata": {
        "id": "xY2aDy6G16qZ",
        "colab_type": "code",
        "colab": {}
      },
      "source": [
        "# Plotting the distribution of the values in the attacking_work_rate column\n",
        "player_attrib[\"attacking_work_rate\"].value_counts().plot.bar()"
      ],
      "execution_count": 0,
      "outputs": []
    },
    {
      "cell_type": "markdown",
      "metadata": {
        "id": "wWq1plUl16qc",
        "colab_type": "text"
      },
      "source": [
        "__We can choose to drop the columns where the categorical values do not make sense or we can replace those values into the three categories, medium, high, low__"
      ]
    },
    {
      "cell_type": "code",
      "metadata": {
        "code_folding": [],
        "id": "MlIKgdGL16qc",
        "colab_type": "code",
        "colab": {}
      },
      "source": [
        "# To delete the rows which have the gibberish values\n",
        "# Delete the rows which the values in the list\n",
        "cleaned = player_attrib[~(player_attrib.attacking_work_rate.isin(['None','norm','y','stoc','le']))] \n",
        "               \n",
        "(1- cleaned.shape[0]/player_attrib.shape[0])*100"
      ],
      "execution_count": 0,
      "outputs": []
    },
    {
      "cell_type": "markdown",
      "metadata": {
        "id": "seW2L0_K16qf",
        "colab_type": "text"
      },
      "source": [
        "2.15% Data Loss"
      ]
    },
    {
      "cell_type": "markdown",
      "metadata": {
        "id": "39A_iFOd16qf",
        "colab_type": "text"
      },
      "source": [
        "### To replace gibberish values with medium, low, high"
      ]
    },
    {
      "cell_type": "code",
      "metadata": {
        "id": "Q_rORd_616qg",
        "colab_type": "code",
        "colab": {}
      },
      "source": [
        "# Choosing to replace only with low because it can improve the variance of the column\n",
        "player_attrib.replace( ['None','norm','y','stoc','le'],'low', inplace = True)\n",
        "print(player_attrib[\"attacking_work_rate\"].value_counts())\n",
        "player_attrib[\"attacking_work_rate\"].value_counts().plot.bar()"
      ],
      "execution_count": 0,
      "outputs": []
    },
    {
      "cell_type": "code",
      "metadata": {
        "id": "kIJHEyLw16qi",
        "colab_type": "code",
        "colab": {}
      },
      "source": [
        "# Checking the distribution of the values in the defensive_work_rate column\n",
        "player_attrib[\"defensive_work_rate\"].value_counts()"
      ],
      "execution_count": 0,
      "outputs": []
    },
    {
      "cell_type": "markdown",
      "metadata": {
        "id": "4INsaNL116ql",
        "colab_type": "text"
      },
      "source": [
        "The defensive_work_rate column items need to be set into medium, low or high as those are the only possible values for defensive_work_rate. \n",
        "\n",
        "Reference: http://www.fifplay.com/encyclopedia/work-rate/"
      ]
    },
    {
      "cell_type": "code",
      "metadata": {
        "id": "geN27VBU16qm",
        "colab_type": "code",
        "colab": {}
      },
      "source": [
        "# Plotting the distribution of the values in the defensive_work_rate column\n",
        "player_attrib[\"defensive_work_rate\"].value_counts().plot.bar()"
      ],
      "execution_count": 0,
      "outputs": []
    },
    {
      "cell_type": "markdown",
      "metadata": {
        "id": "lj1zPyfD16qo",
        "colab_type": "text"
      },
      "source": [
        "__We can choose to drop the columns where the categorical values do not make sense or we can re-organize those values into the three categories, medium, high, low__"
      ]
    },
    {
      "cell_type": "markdown",
      "metadata": {
        "id": "bsNxA6fX16qp",
        "colab_type": "text"
      },
      "source": [
        "### Dropping rows with gibberish values in defensive_work_rate"
      ]
    },
    {
      "cell_type": "code",
      "metadata": {
        "id": "b6xVSFx-16qp",
        "colab_type": "code",
        "colab": {}
      },
      "source": [
        "# To delete the rows which have the gibberish values\n",
        "cleaned1 = player_attrib[~(player_attrib.defensive_work_rate.isin(['o', '1', '2', 'ormal', '3', '5', '7', '0', \n",
        "                                                         '6', '9', '4', 'es', 'tocky', 'ean', '8']))] "
      ],
      "execution_count": 0,
      "outputs": []
    },
    {
      "cell_type": "code",
      "metadata": {
        "id": "x99VbRDL16qt",
        "colab_type": "code",
        "colab": {}
      },
      "source": [
        "(1- cleaned1.shape[0]/player_attrib.shape[0])*100"
      ],
      "execution_count": 0,
      "outputs": []
    },
    {
      "cell_type": "markdown",
      "metadata": {
        "id": "bXo5tpNZ16qx",
        "colab_type": "text"
      },
      "source": [
        "2.2% Data Loss"
      ]
    },
    {
      "cell_type": "markdown",
      "metadata": {
        "id": "vY2wn1eU16qy",
        "colab_type": "text"
      },
      "source": [
        " __OR__"
      ]
    },
    {
      "cell_type": "markdown",
      "metadata": {
        "id": "hVctKHAM16qz",
        "colab_type": "text"
      },
      "source": [
        "### To replace gibberish values with medium, low, high"
      ]
    },
    {
      "cell_type": "code",
      "metadata": {
        "id": "d7849yDF16qz",
        "colab_type": "code",
        "colab": {}
      },
      "source": [
        "player_attrib.replace(['o', '1', '2', 'ormal', '3', '0', 'es', 'tocky', 'ean'],'low',inplace = True) \n",
        "player_attrib.replace(['5',  '6', '4'],'medium', inplace = True) \n",
        "player_attrib.replace([ '7', '9', '8'],'high', inplace = True) \n",
        "print(player_attrib[\"defensive_work_rate\"].value_counts())\n",
        "player_attrib[\"defensive_work_rate\"].value_counts().plot.bar()"
      ],
      "execution_count": 0,
      "outputs": []
    },
    {
      "cell_type": "markdown",
      "metadata": {
        "id": "9KOUVLeP16q2",
        "colab_type": "text"
      },
      "source": [
        "# Basic Statistical Information"
      ]
    },
    {
      "cell_type": "code",
      "metadata": {
        "id": "4hqecpf816q3",
        "colab_type": "code",
        "colab": {}
      },
      "source": [
        "# Getting basic statistical information about the numerical columns\n",
        "player_attrib.describe() # Only numerical columns"
      ],
      "execution_count": 0,
      "outputs": []
    },
    {
      "cell_type": "code",
      "metadata": {
        "id": "8yG8Okzv16q6",
        "colab_type": "code",
        "colab": {}
      },
      "source": [
        "# Getting correlation between various numerical columns\n",
        "player_attrib.corr()"
      ],
      "execution_count": 0,
      "outputs": []
    },
    {
      "cell_type": "code",
      "metadata": {
        "id": "0ODhKlrq16q9",
        "colab_type": "code",
        "colab": {}
      },
      "source": [
        "# Checking for correlations using HEATMAP\n",
        "plt.figure(figsize=(20,20))\n",
        "sns.heatmap(player_attrib.corr(), cmap=\"PRGn\")"
      ],
      "execution_count": 0,
      "outputs": []
    },
    {
      "cell_type": "code",
      "metadata": {
        "id": "uFCWx7zC16rA",
        "colab_type": "code",
        "colab": {}
      },
      "source": [
        "player_attrib.corr().loc['overall_rating']"
      ],
      "execution_count": 0,
      "outputs": []
    },
    {
      "cell_type": "markdown",
      "metadata": {
        "id": "lU77XWcd16rD",
        "colab_type": "text"
      },
      "source": [
        "***overall_rating is highly correlated with the reactions and potential columns(Correlation>0.7). It is moderately correlated with short_passing, long_passing,ball_control, shot_power,vision (correlation >0.4)***\n",
        " "
      ]
    },
    {
      "cell_type": "markdown",
      "metadata": {
        "id": "JRR4Qygj16rD",
        "colab_type": "text"
      },
      "source": [
        "\n",
        "# Exploratory Data Analysis"
      ]
    },
    {
      "cell_type": "markdown",
      "metadata": {
        "id": "KD2II4D016rG",
        "colab_type": "text"
      },
      "source": [
        "## Univariate - Visual Analysis - Distribution and countplots etc."
      ]
    },
    {
      "cell_type": "markdown",
      "metadata": {
        "id": "Sv0lA6JE16rH",
        "colab_type": "text"
      },
      "source": [
        "### Univariate Analysis of Categorical Data"
      ]
    },
    {
      "cell_type": "code",
      "metadata": {
        "id": "aQo9PFx216rH",
        "colab_type": "code",
        "colab": {}
      },
      "source": [
        "categorical_cols"
      ],
      "execution_count": 0,
      "outputs": []
    },
    {
      "cell_type": "code",
      "metadata": {
        "id": "-A6WdJMP16rM",
        "colab_type": "code",
        "colab": {}
      },
      "source": [
        "player_attrib[categorical_cols].head()"
      ],
      "execution_count": 0,
      "outputs": []
    },
    {
      "cell_type": "code",
      "metadata": {
        "id": "7Erz9j3o16rP",
        "colab_type": "code",
        "colab": {}
      },
      "source": [
        "print(player_attrib[\"preferred_foot\"].value_counts())\n",
        "print(player_attrib[\"attacking_work_rate\"].value_counts())\n",
        "print(player_attrib[\"defensive_work_rate\"].value_counts())"
      ],
      "execution_count": 0,
      "outputs": []
    },
    {
      "cell_type": "markdown",
      "metadata": {
        "id": "gKiadi6D16rS",
        "colab_type": "text"
      },
      "source": [
        "___Majority of the players' preferred foot is the right leg___"
      ]
    },
    {
      "cell_type": "markdown",
      "metadata": {
        "id": "AFr6jmj616rS",
        "colab_type": "text"
      },
      "source": [
        "___Majority of the players' attacking work rate is medium___"
      ]
    },
    {
      "cell_type": "markdown",
      "metadata": {
        "id": "qQ010M6s16rT",
        "colab_type": "text"
      },
      "source": [
        "___Majority of the players' defensive work rate is medium___"
      ]
    },
    {
      "cell_type": "code",
      "metadata": {
        "scrolled": true,
        "id": "SfS0mWob16rU",
        "colab_type": "code",
        "colab": {}
      },
      "source": [
        "player_attrib['overall_rating'].hist(bins=60)"
      ],
      "execution_count": 0,
      "outputs": []
    },
    {
      "cell_type": "markdown",
      "metadata": {
        "id": "7Mvs5fw816rX",
        "colab_type": "text"
      },
      "source": [
        "___Players' overall rating is normally distributed___"
      ]
    },
    {
      "cell_type": "markdown",
      "metadata": {
        "id": "mUjnxvLG16rY",
        "colab_type": "text"
      },
      "source": [
        "### Univariate Analysis of Numerical Data"
      ]
    },
    {
      "cell_type": "code",
      "metadata": {
        "scrolled": false,
        "id": "fpzbts7n16rZ",
        "colab_type": "code",
        "colab": {}
      },
      "source": [
        "# Plotting the histograms of numerical columns to understand their distribution\n",
        "player_attrib.hist(bins=100,figsize=(20,40),layout=(10,4))\n",
        "plt.show() "
      ],
      "execution_count": 0,
      "outputs": []
    },
    {
      "cell_type": "markdown",
      "metadata": {
        "id": "BUP8Q7ep16rb",
        "colab_type": "text"
      },
      "source": [
        "***The interception, marking, standing_tackle and diving_tackle column values follow bimodal distribution***"
      ]
    },
    {
      "cell_type": "markdown",
      "metadata": {
        "id": "ag12I5Fb16rc",
        "colab_type": "text"
      },
      "source": [
        "***The gk_diving, gk_relexes, gk_positioning, gk_kicking, gk_handling column values follow also bimodal distribution but are imbalanced***"
      ]
    },
    {
      "cell_type": "markdown",
      "metadata": {
        "id": "XHwgg-5Z16rc",
        "colab_type": "text"
      },
      "source": [
        "***All other player attributes column values roughly follow normal distribution. This is to be expected as majority of the players have reasonably attributes but only some have exceptional attributes***"
      ]
    },
    {
      "cell_type": "markdown",
      "metadata": {
        "id": "ussNIIgE16rd",
        "colab_type": "text"
      },
      "source": [
        "## Bi-variate -  Statistical and Visual Analysis"
      ]
    },
    {
      "cell_type": "markdown",
      "metadata": {
        "id": "g7SIZblx16rd",
        "colab_type": "text"
      },
      "source": [
        "__Plotting: overall_rating vs  reactions and potential columns(Correlation>0.7) and short_passing, long_passing, ball_control, shot_power,vision (correlation >0.4)__"
      ]
    },
    {
      "cell_type": "code",
      "metadata": {
        "id": "Qa9Uf6ya16re",
        "colab_type": "code",
        "colab": {}
      },
      "source": [
        "sns.jointplot(x=player_attrib[\"reactions\"], y=player_attrib[\"overall_rating\"], kind='hex',size = 7)"
      ],
      "execution_count": 0,
      "outputs": []
    },
    {
      "cell_type": "code",
      "metadata": {
        "id": "-mb1-hqn16rf",
        "colab_type": "code",
        "colab": {}
      },
      "source": [
        "sns.jointplot(x=player_attrib[\"potential\"], y=player_attrib[\"overall_rating\"], kind='hex',size = 7)"
      ],
      "execution_count": 0,
      "outputs": []
    },
    {
      "cell_type": "code",
      "metadata": {
        "id": "l0M6Uapa16rh",
        "colab_type": "code",
        "colab": {}
      },
      "source": [
        "sns.jointplot(x=player_attrib[\"short_passing\"], y=player_attrib[\"overall_rating\"], kind='hex',size = 7)"
      ],
      "execution_count": 0,
      "outputs": []
    },
    {
      "cell_type": "code",
      "metadata": {
        "id": "UECIIjgI16rj",
        "colab_type": "code",
        "colab": {}
      },
      "source": [
        "sns.jointplot(x=player_attrib[\"long_passing\"], y=player_attrib[\"overall_rating\"], kind='hex',size = 7)"
      ],
      "execution_count": 0,
      "outputs": []
    },
    {
      "cell_type": "code",
      "metadata": {
        "id": "RM3ePLKT16rl",
        "colab_type": "code",
        "colab": {}
      },
      "source": [
        "sns.jointplot(x=player_attrib[\"ball_control\"], y=player_attrib[\"overall_rating\"], kind='hex',size = 7)"
      ],
      "execution_count": 0,
      "outputs": []
    },
    {
      "cell_type": "code",
      "metadata": {
        "id": "SoKHMDbo16ro",
        "colab_type": "code",
        "colab": {}
      },
      "source": [
        "sns.jointplot(x=player_attrib[\"shot_power\"], y=player_attrib[\"overall_rating\"], kind='hex',size = 7)"
      ],
      "execution_count": 0,
      "outputs": []
    },
    {
      "cell_type": "code",
      "metadata": {
        "id": "TZ-7zJOw16rr",
        "colab_type": "code",
        "colab": {}
      },
      "source": [
        "sns.jointplot(x=player_attrib[\"vision\"], y=player_attrib[\"overall_rating\"], kind='hex',size = 7)"
      ],
      "execution_count": 0,
      "outputs": []
    },
    {
      "cell_type": "markdown",
      "metadata": {
        "id": "QuJ_zPUw16rs",
        "colab_type": "text"
      },
      "source": [
        "# Feature Engineering - Preparing Data for Modeling"
      ]
    },
    {
      "cell_type": "markdown",
      "metadata": {
        "id": "j7EECujn16rt",
        "colab_type": "text"
      },
      "source": [
        "## Preparing the input vector X\n"
      ]
    },
    {
      "cell_type": "code",
      "metadata": {
        "id": "DEwJaXWH16rt",
        "colab_type": "code",
        "colab": {}
      },
      "source": [
        "X = player_attrib.drop(\"overall_rating\",axis = 1)\n",
        "X.shape, X.columns"
      ],
      "execution_count": 0,
      "outputs": []
    },
    {
      "cell_type": "markdown",
      "metadata": {
        "id": "72pdGi8N16rw",
        "colab_type": "text"
      },
      "source": [
        "## Dropping the various ids in the dataset as they do not contribute to the regression model\n"
      ]
    },
    {
      "cell_type": "code",
      "metadata": {
        "id": "BxGp0QgF16rw",
        "colab_type": "code",
        "colab": {}
      },
      "source": [
        "X.drop(\"id\",axis = 1, inplace = True)\n",
        "X.drop(\"player_fifa_api_id\",axis = 1, inplace = True)\n",
        "X.drop(\"player_api_id\",axis = 1, inplace = True)"
      ],
      "execution_count": 0,
      "outputs": []
    },
    {
      "cell_type": "markdown",
      "metadata": {
        "id": "zY3MAJVo16rx",
        "colab_type": "text"
      },
      "source": [
        "## Modifying the date column in the input vector\n"
      ]
    },
    {
      "cell_type": "code",
      "metadata": {
        "id": "bCjmtgRY16ry",
        "colab_type": "code",
        "colab": {}
      },
      "source": [
        "X['year'] = pd.DatetimeIndex(X.date).year\n",
        "X['month'] = pd.DatetimeIndex(X.date).month\n",
        "X['day'] = pd.DatetimeIndex(X.date).day\n",
        "X.drop('date',axis=1, inplace=True)"
      ],
      "execution_count": 0,
      "outputs": []
    },
    {
      "cell_type": "markdown",
      "metadata": {
        "id": "5Fr8Qy1l16rz",
        "colab_type": "text"
      },
      "source": [
        "## Selecting columns for label encoding and encoding them"
      ]
    },
    {
      "cell_type": "code",
      "metadata": {
        "id": "JXvgtAJV16r0",
        "colab_type": "code",
        "colab": {}
      },
      "source": [
        "X_cat_cols = X.select_dtypes(include='object').columns.tolist()\n",
        "X_cat_cols"
      ],
      "execution_count": 0,
      "outputs": []
    },
    {
      "cell_type": "code",
      "metadata": {
        "id": "b_9J1r1916r1",
        "colab_type": "code",
        "colab": {}
      },
      "source": [
        "# LabelEncoding the preferred_foot, attacking_work_rate, defensive_work_rate\n",
        "from sklearn.preprocessing import LabelEncoder\n",
        "for i in X_cat_cols:\n",
        "    lbl_enc = LabelEncoder()\n",
        "    X[i] = lbl_enc.fit_transform(X[i])"
      ],
      "execution_count": 0,
      "outputs": []
    },
    {
      "cell_type": "code",
      "metadata": {
        "id": "4_1uJcHx16r2",
        "colab_type": "code",
        "colab": {}
      },
      "source": [
        "# Checking the columns and the shape of the input vector after encoding\n",
        "X.columns, X.shape"
      ],
      "execution_count": 0,
      "outputs": []
    },
    {
      "cell_type": "code",
      "metadata": {
        "id": "g65dCuwW16r4",
        "colab_type": "code",
        "colab": {}
      },
      "source": [
        "X.head()"
      ],
      "execution_count": 0,
      "outputs": []
    },
    {
      "cell_type": "markdown",
      "metadata": {
        "id": "f8JCXIxx16r7",
        "colab_type": "text"
      },
      "source": [
        "## Preparing the Output Y"
      ]
    },
    {
      "cell_type": "code",
      "metadata": {
        "code_folding": [],
        "id": "QZPray3P16r7",
        "colab_type": "code",
        "colab": {}
      },
      "source": [
        "Y = player_attrib[\"overall_rating\"]\n",
        "Y.shape"
      ],
      "execution_count": 0,
      "outputs": []
    },
    {
      "cell_type": "code",
      "metadata": {
        "id": "jjHjhAPL16r9",
        "colab_type": "code",
        "colab": {}
      },
      "source": [
        "Y.head()"
      ],
      "execution_count": 0,
      "outputs": []
    },
    {
      "cell_type": "markdown",
      "metadata": {
        "id": "sKKf8TSx16sB",
        "colab_type": "text"
      },
      "source": [
        "# Splitting the data into Train and Test"
      ]
    },
    {
      "cell_type": "code",
      "metadata": {
        "id": "JRCV-wXu16sC",
        "colab_type": "code",
        "colab": {}
      },
      "source": [
        "x_train, x_test, y_train, y_test = train_test_split(X,Y,test_size=0.75, random_state = 100)"
      ],
      "execution_count": 0,
      "outputs": []
    },
    {
      "cell_type": "markdown",
      "metadata": {
        "id": "fppxacOA16sD",
        "colab_type": "text"
      },
      "source": [
        "# Fitting the models and collecting the metrics"
      ]
    },
    {
      "cell_type": "markdown",
      "metadata": {
        "id": "6JQEceh416sD",
        "colab_type": "text"
      },
      "source": [
        "## Linear Regression"
      ]
    },
    {
      "cell_type": "code",
      "metadata": {
        "id": "pfWinV3T16sF",
        "colab_type": "code",
        "colab": {}
      },
      "source": [
        "lm  = LinearRegression()\n",
        "model  = lm.fit(x_train,y_train)\n",
        "y_train_pred = model.predict(x_train)\n",
        "y_test_pred = model.predict(x_test)\n",
        "    \n",
        "print('Linear Regression -', 'RMSE Train:', math.sqrt(mean_squared_error(y_train_pred, y_train)))\n",
        "print('Linear Regression -', 'RMSE Test:' ,math.sqrt(mean_squared_error(y_test_pred, y_test)))  \n",
        "print('Linear Regression -', 'R2_score Train:', r2_score(y_train_pred, y_train))\n",
        "print('Linear Regression -', 'R2_score Test:' ,r2_score(y_test_pred, y_test))  "
      ],
      "execution_count": 0,
      "outputs": []
    },
    {
      "cell_type": "markdown",
      "metadata": {
        "id": "7S4kfcfQ16sI",
        "colab_type": "text"
      },
      "source": [
        "## Other Regressors"
      ]
    },
    {
      "cell_type": "code",
      "metadata": {
        "id": "ghUN0Aet16sI",
        "colab_type": "code",
        "colab": {}
      },
      "source": [
        "regressors = [\n",
        "            (\"Linear - \", LinearRegression(normalize=True)),\n",
        "            (\"Ridge - \",  Ridge(alpha=0.5, normalize=True)),\n",
        "            (\"Lasso - \",  Lasso(alpha=0.5, normalize=True)),\n",
        "            (\"ElasticNet - \",  ElasticNet(alpha=0.5, l1_ratio=0.5, normalize=True)),\n",
        "            (\"Decision Tree - \",  DecisionTreeRegressor(max_depth=5)),\n",
        "            (\"Random Forest - \",  RandomForestRegressor(n_estimators=100)),\n",
        "            (\"AdaBoost - \",  AdaBoostRegressor(n_estimators=100)),\n",
        "            (\"GBM - \", GradientBoostingRegressor(n_estimators=100))]"
      ],
      "execution_count": 0,
      "outputs": []
    },
    {
      "cell_type": "code",
      "metadata": {
        "id": "3NLLk-cl16sK",
        "colab_type": "code",
        "colab": {}
      },
      "source": [
        "for reg in regressors:\n",
        "    reg[1].fit(x_train, y_train)\n",
        "    y_test_pred= reg[1].predict(x_test)\n",
        "    print(reg[0],\"\\n\\t R2-Score:\", reg[1].score(x_test, y_test),\n",
        "                 \"\\n\\t RMSE:\", math.sqrt(mean_squared_error(y_test_pred, y_test)),\"\\n\")"
      ],
      "execution_count": 0,
      "outputs": []
    },
    {
      "cell_type": "markdown",
      "metadata": {
        "id": "fFva1Nwg16sM",
        "colab_type": "text"
      },
      "source": [
        "# Feature Selection"
      ]
    },
    {
      "cell_type": "markdown",
      "metadata": {
        "code_folding": [],
        "id": "79fJ_Kex16sM",
        "colab_type": "text"
      },
      "source": [
        "___Feature Selection using feature importances from RandomForestRegressor model___\n"
      ]
    },
    {
      "cell_type": "code",
      "metadata": {
        "code_folding": [],
        "id": "TYIPMKjJ16sM",
        "colab_type": "code",
        "colab": {}
      },
      "source": [
        "rndf = RandomForestRegressor(n_estimators=150)\n",
        "rndf.fit(x_train, y_train)\n",
        "importance = pd.DataFrame.from_dict({'cols':x_train.columns, 'importance': rndf.feature_importances_})\n",
        "importance = importance.sort_values(by='importance', ascending=False)\n",
        "plt.figure(figsize=(20,15))\n",
        "sns.barplot(importance.cols, importance.importance)\n",
        "plt.xticks(rotation=90)"
      ],
      "execution_count": 0,
      "outputs": []
    },
    {
      "cell_type": "code",
      "metadata": {
        "id": "iDbLhZ0K16sP",
        "colab_type": "code",
        "colab": {}
      },
      "source": [
        "imp_cols = importance[importance.importance >= 0.005].cols.values\n",
        "imp_cols"
      ],
      "execution_count": 0,
      "outputs": []
    },
    {
      "cell_type": "code",
      "metadata": {
        "id": "8Fk_mByp16sR",
        "colab_type": "code",
        "colab": {}
      },
      "source": [
        "# Fitting models with columns where feature importance>=0.005\n",
        "x_train, x_test, y_train, y_test = train_test_split(X[imp_cols],Y,test_size=0.75, random_state = 100)\n",
        "for reg in regressors:\n",
        "    reg[1].fit(x_train, y_train)\n",
        "    y_test_pred= reg[1].predict(x_test)\n",
        "    print(reg[0],\"\\n\\t R2-Score:\", reg[1].score(x_test, y_test),\n",
        "                 \"\\n\\t RMSE:\", math.sqrt(mean_squared_error(y_test_pred, y_test)),\"\\n\")"
      ],
      "execution_count": 0,
      "outputs": []
    },
    {
      "cell_type": "code",
      "metadata": {
        "id": "XvloW-A916sU",
        "colab_type": "code",
        "colab": {}
      },
      "source": [
        "imp_cols = importance[importance.importance >= 0.001].cols.values\n",
        "imp_cols"
      ],
      "execution_count": 0,
      "outputs": []
    },
    {
      "cell_type": "code",
      "metadata": {
        "scrolled": false,
        "id": "G9mA648O16sV",
        "colab_type": "code",
        "colab": {}
      },
      "source": [
        "# Fitting models with columns where feature importance>=0.001\n",
        "x_train, x_test, y_train, y_test = train_test_split(X[imp_cols],Y,test_size=0.75, random_state = 100)\n",
        "for reg in regressors:\n",
        "    reg[1].fit(x_train, y_train)\n",
        "    y_test_pred= reg[1].predict(x_test)\n",
        "    print(reg[0],\"\\n\\t R2-Score:\", reg[1].score(x_test, y_test),\n",
        "                 \"\\n\\t RMSE:\", math.sqrt(mean_squared_error(y_test_pred, y_test)),\"\\n\")"
      ],
      "execution_count": 0,
      "outputs": []
    },
    {
      "cell_type": "markdown",
      "metadata": {
        "id": "f_pmQGX216sW",
        "colab_type": "text"
      },
      "source": [
        "___RandomForest and GBM provide us with the best RMSE and R2-Score when selecting columns with feature importance >= 0.001___"
      ]
    },
    {
      "cell_type": "markdown",
      "metadata": {
        "id": "r_1xIXX716sX",
        "colab_type": "text"
      },
      "source": [
        "# Validation of the Models"
      ]
    },
    {
      "cell_type": "markdown",
      "metadata": {
        "id": "MQfaYk0E16sX",
        "colab_type": "text"
      },
      "source": [
        "___Validating our models using K-Fold Cross Validation for Robustness___"
      ]
    },
    {
      "cell_type": "code",
      "metadata": {
        "id": "P704e77M16sY",
        "colab_type": "code",
        "colab": {}
      },
      "source": [
        "scoring = 'neg_mean_squared_error'\n",
        "results=[]\n",
        "names=[]\n",
        "for modelname, model in regressors:\n",
        "    kfold = KFold(n_splits=10, random_state=7)\n",
        "    cv_results = cross_val_score(model, x_train,y_train, cv=kfold, scoring=scoring)\n",
        "    results.append(cv_results)\n",
        "    names.append(modelname)\n",
        "    print(modelname,\"\\n\\t CV-Mean:\", cv_results.mean(),\n",
        "                    \"\\n\\t CV-Std. Dev:\",  cv_results.std(),\"\\n\")"
      ],
      "execution_count": 0,
      "outputs": []
    },
    {
      "cell_type": "markdown",
      "metadata": {
        "id": "u6Z2nAR316sa",
        "colab_type": "text"
      },
      "source": [
        "___RandomForest and GBM provide us with the best validation score, both w.r.t. CV-Mean and CV-Std. Dev___"
      ]
    },
    {
      "cell_type": "markdown",
      "metadata": {
        "id": "TmyLVnES16sa",
        "colab_type": "text"
      },
      "source": [
        "__Therefore we choose these two models to optimize. We do this by finding best hyper-parameter values which give us even better R2-Score and RMSE values__"
      ]
    },
    {
      "cell_type": "markdown",
      "metadata": {
        "id": "61Z2TxVu16sa",
        "colab_type": "text"
      },
      "source": [
        "# Tuning Model for better Performance -- Hyper-Parameter Optimization"
      ]
    },
    {
      "cell_type": "markdown",
      "metadata": {
        "id": "4JbpjHsB16sa",
        "colab_type": "text"
      },
      "source": [
        "***Tuning the RandomForestRegressor, GradientBoostingRegressor Hyper-Parameters using GridSearchCV***"
      ]
    },
    {
      "cell_type": "code",
      "metadata": {
        "id": "-Ftj0EJc16sb",
        "colab_type": "code",
        "colab": {}
      },
      "source": [
        "regressors"
      ],
      "execution_count": 0,
      "outputs": []
    },
    {
      "cell_type": "markdown",
      "metadata": {
        "id": "XahU26JY16sc",
        "colab_type": "text"
      },
      "source": [
        "***Warning: Run the following optimization algorithms only if you have a powerful processor or GPU. Even then it may take more than 3 - 4 hours to run completely.***"
      ]
    },
    {
      "cell_type": "markdown",
      "metadata": {
        "id": "jFpRak-f16sc",
        "colab_type": "text"
      },
      "source": [
        "## Random Forest Regressor"
      ]
    },
    {
      "cell_type": "code",
      "metadata": {
        "id": "igwGtGX516sc",
        "colab_type": "code",
        "colab": {}
      },
      "source": [
        "RF_Regressor =  RandomForestRegressor(n_estimators=100, n_jobs = -1, random_state = 100)\n",
        "\n",
        "CV = ShuffleSplit(test_size=0.25, random_state=100)\n",
        "\n",
        "param_grid = {\"max_depth\": [5, None],\n",
        "              \"n_estimators\": [50, 100, 150, 200],\n",
        "              \"min_samples_split\": [2, 4, 5],\n",
        "              \"min_samples_leaf\": [2, 4, 6]\n",
        "             }"
      ],
      "execution_count": 0,
      "outputs": []
    },
    {
      "cell_type": "code",
      "metadata": {
        "id": "OYXzZOzB16sd",
        "colab_type": "code",
        "colab": {}
      },
      "source": [
        "rscv_grid = GridSearchCV(RF_Regressor, param_grid=param_grid, verbose=1)"
      ],
      "execution_count": 0,
      "outputs": []
    },
    {
      "cell_type": "code",
      "metadata": {
        "id": "uJurpzaB16se",
        "colab_type": "code",
        "colab": {}
      },
      "source": [
        "rscv_grid.fit(x_train, y_train)"
      ],
      "execution_count": 0,
      "outputs": []
    },
    {
      "cell_type": "code",
      "metadata": {
        "id": "P3sflFOX16sf",
        "colab_type": "code",
        "colab": {}
      },
      "source": [
        "rscv_grid.best_params_"
      ],
      "execution_count": 0,
      "outputs": []
    },
    {
      "cell_type": "code",
      "metadata": {
        "id": "6XC1BCsO16sh",
        "colab_type": "code",
        "colab": {}
      },
      "source": [
        "model = rscv_grid.best_estimator_\n",
        "model.fit(x_train, y_train)"
      ],
      "execution_count": 0,
      "outputs": []
    },
    {
      "cell_type": "code",
      "metadata": {
        "id": "ZEr9lF0W16sj",
        "colab_type": "code",
        "colab": {}
      },
      "source": [
        "model.score(x_test, y_test)"
      ],
      "execution_count": 0,
      "outputs": []
    },
    {
      "cell_type": "code",
      "metadata": {
        "id": "b2xgZEX916sk",
        "colab_type": "code",
        "colab": {}
      },
      "source": [
        "RF_reg = pickle.dumps(rscv_grid)"
      ],
      "execution_count": 0,
      "outputs": []
    },
    {
      "cell_type": "markdown",
      "metadata": {
        "id": "AYRxbaHM16sl",
        "colab_type": "text"
      },
      "source": [
        "## Gradient Boosting Regressor"
      ]
    },
    {
      "cell_type": "code",
      "metadata": {
        "id": "-bQs9_so16sl",
        "colab_type": "code",
        "colab": {}
      },
      "source": [
        "GB_Regressor =  GradientBoostingRegressor(n_estimators=100)\n",
        "\n",
        "CV = ShuffleSplit(test_size=0.25, random_state=100)\n",
        "\n",
        "param_grid = {'max_depth': [5, 7, 9],\n",
        "              'learning_rate': [0.1, 0.3, 0.5]\n",
        "             }"
      ],
      "execution_count": 0,
      "outputs": []
    },
    {
      "cell_type": "code",
      "metadata": {
        "id": "D_4elg_T16sn",
        "colab_type": "code",
        "colab": {}
      },
      "source": [
        "rscv_grid = GridSearchCV(GB_Regressor, param_grid=param_grid, verbose=1)"
      ],
      "execution_count": 0,
      "outputs": []
    },
    {
      "cell_type": "code",
      "metadata": {
        "id": "77V9mTdx16so",
        "colab_type": "code",
        "colab": {}
      },
      "source": [
        "rscv_grid.fit(x_train, y_train)"
      ],
      "execution_count": 0,
      "outputs": []
    },
    {
      "cell_type": "code",
      "metadata": {
        "id": "PUBhyUX916sp",
        "colab_type": "code",
        "colab": {}
      },
      "source": [
        "rscv_grid.best_params_"
      ],
      "execution_count": 0,
      "outputs": []
    },
    {
      "cell_type": "code",
      "metadata": {
        "id": "FMIskdU_16sq",
        "colab_type": "code",
        "colab": {}
      },
      "source": [
        "model = rscv_grid.best_estimator_\n",
        "model.fit(x_train, y_train)"
      ],
      "execution_count": 0,
      "outputs": []
    },
    {
      "cell_type": "code",
      "metadata": {
        "id": "JmVfgida16sr",
        "colab_type": "code",
        "colab": {}
      },
      "source": [
        "model.score(x_test, y_test)"
      ],
      "execution_count": 0,
      "outputs": []
    },
    {
      "cell_type": "code",
      "metadata": {
        "id": "1VxDLS1v16st",
        "colab_type": "code",
        "colab": {}
      },
      "source": [
        "GB_reg = pickle.dumps(rscv_grid)"
      ],
      "execution_count": 0,
      "outputs": []
    },
    {
      "cell_type": "markdown",
      "metadata": {
        "id": "0s77KEDc16st",
        "colab_type": "text"
      },
      "source": [
        "# Comparing performance metric of the different models"
      ]
    },
    {
      "cell_type": "code",
      "metadata": {
        "id": "-2bga6jy16su",
        "colab_type": "code",
        "colab": {}
      },
      "source": [
        "RF_regressor = pickle.loads(RF_reg)\n",
        "GB_regressor = pickle.loads(GB_reg)"
      ],
      "execution_count": 0,
      "outputs": []
    },
    {
      "cell_type": "code",
      "metadata": {
        "id": "7HDXEDXb16su",
        "colab_type": "code",
        "colab": {}
      },
      "source": [
        "print(\"RandomForestRegressor - \\n\\t R2-Score:\", RF_regressor.score(x_test, y_test),\n",
        "                 \"\\n\\t RMSE:\", math.sqrt(mean_squared_error(RF_regressor.predict(x_test), y_test)),\"\\n\")\n",
        "      \n",
        "print(\"GradientBoostingRegressor - \\n\\t R2-Score:\", GB_regressor.score(x_test, y_test),\n",
        "                 \"\\n\\t RMSE:\", math.sqrt(mean_squared_error(GB_regressor.predict(x_test), y_test)),\"\\n\")"
      ],
      "execution_count": 0,
      "outputs": []
    },
    {
      "cell_type": "markdown",
      "metadata": {
        "id": "I86FDD2916sx",
        "colab_type": "text"
      },
      "source": [
        "# Choosing the model"
      ]
    },
    {
      "cell_type": "markdown",
      "metadata": {
        "id": "atqVr3N416sx",
        "colab_type": "text"
      },
      "source": [
        "***We can see that Gradient Boosting Regressor gives better result with an R2-Score of more than 97% and while keeping RMSE value low(=1.1370474). So, XGBoost Regressor should be used as the regression model for this dataset.***"
      ]
    }
  ]
}