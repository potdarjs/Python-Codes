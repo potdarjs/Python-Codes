{
  "nbformat": 4,
  "nbformat_minor": 0,
  "metadata": {
    "colab": {
      "name": "Session 1 - Python-Installation and Basics.ipynb",
      "version": "0.3.2",
      "provenance": [],
      "include_colab_link": true
    },
    "kernelspec": {
      "display_name": "Python 3",
      "language": "python",
      "name": "python3"
    }
  },
  "cells": [
    {
      "cell_type": "markdown",
      "metadata": {
        "id": "view-in-github",
        "colab_type": "text"
      },
      "source": [
        "<a href=\"https://colab.research.google.com/github/potdarjs/Python-Codes/blob/master/Session_1_Python_Installation_and_Basics.ipynb\" target=\"_parent\"><img src=\"https://colab.research.google.com/assets/colab-badge.svg\" alt=\"Open In Colab\"/></a>"
      ]
    },
    {
      "metadata": {
        "id": "2014hyXTMb4X",
        "colab_type": "text"
      },
      "cell_type": "markdown",
      "source": [
        "## Introduction"
      ]
    },
    {
      "metadata": {
        "id": "-ESYxKknMb4a",
        "colab_type": "text"
      },
      "cell_type": "markdown",
      "source": [
        "Python is an interpreted, object-oriented, high-level programming language with dynamic semantics. Its high-level built in data structures, combined with dynamic typing and dynamic binding, make it very attractive for Rapid Application Development, as well as for use as a scripting or glue language to connect existing components together. Python's simple, easy to learn syntax emphasizes readability and therefore reduces the cost of program maintenance. Python supports modules and packages, which encourages program modularity and code reuse. The Python interpreter and the extensive standard library are available in source or binary form without charge for all major platforms, and can be freely distributed."
      ]
    },
    {
      "metadata": {
        "id": "ifBsM6aMMb4b",
        "colab_type": "text"
      },
      "cell_type": "markdown",
      "source": [
        "Python is a great general-purpose programming language on its own, but with the help of a few popular libraries (numpy, scipy, matplotlib) it becomes a powerful environment for scientific computing."
      ]
    },
    {
      "metadata": {
        "id": "plORDQJkMb4d",
        "colab_type": "text"
      },
      "cell_type": "markdown",
      "source": [
        "## Python Version\n",
        "### Python 2\n",
        "Published in late 2000, Python 2 signalled a more transparent and inclusive language development process than earlier versions of Python with the implementation of PEP (Python Enhancement Proposal), a technical specification that either provides information to Python community members or describes a new feature of the language.\n",
        "\n",
        "Additionally, Python 2 included many more programmatic features including a cycle-detecting garbage collector to automate memory management, increased Unicode support to standardize characters, and list comprehensions to create a list based on existing lists. As Python 2 continued to develop, more features were added, including unifying Python’s types and classes into one hierarchy in Python version 2.2.\n",
        "\n",
        "\n",
        "### Python 3\n",
        "\n",
        "Python 3 is regarded as the future of Python and is the version of the language that is currently in development. A major overhaul, Python 3 was released in late 2008 to address and amend intrinsic design flaws of previous versions of the language. The focus of Python 3 development was to clean up the codebase and remove redundancy, making it clear that there was only one way to perform a given task.\n",
        "\n",
        "Major modifications to Python 3.0 included changing the print statement into a built-in function, improve the way integers are divided, and providing more Unicode support.\n",
        "\n",
        "At first, Python 3 was slowly adopted due to the language not being backwards compatible with Python 2, requiring people to make a decision as to which version of the language to use. Additionally, many package libraries were only available for Python 2, but as the development team behind Python 3 has reiterated that there is an end of life for Python 2 support, more libraries have been ported to Python 3. The increased adoption of Python 3 can be shown by the number of Python packages that now provide Python 3 support, which at the time of writing includes 339 of the 360 most popular Python packages.\n",
        "\n",
        "### Python 2.7\n",
        "\n",
        "Following the 2008 release of Python 3.0, Python 2.7 was published on July 3, 2010 and planned as the last of the 2.x releases. The intention behind Python 2.7 was to make it easier for Python 2.x users to port features over to Python 3 by providing some measure of compatibility between the two. This compatibility support included enhanced modules for version 2.7 like unittest to support test automation, argparse for parsing command-line options, and more convenient classes in collections.\n",
        "\n",
        "Because of Python 2.7’s unique position as a version in between the earlier iterations of Python 2 and Python 3.0, it has persisted as a very popular choice for programmers due to its compatibility with many robust libraries. When we talk about Python 2 today, we are typically referring to the Python 2.7 release as that is the most frequently used version.\n",
        "\n",
        "Python 2.7, however, is considered to be a legacy language and its continued development, which today mostly consists of bug fixes, will cease completely in 2020.\n",
        "\n",
        "### Key Differences\n",
        "While Python 2.7 and Python 3 share many similar capabilities, they should not be thought of as entirely interchangeable. Though you can write good code and useful programs in either version, it is worth understanding that there will be some considerable differences in code syntax and handling.\n",
        "\n"
      ]
    },
    {
      "metadata": {
        "collapsed": true,
        "id": "YwLYAZ-JMb4e",
        "colab_type": "text"
      },
      "cell_type": "markdown",
      "source": [
        "## Anaconda Python Distribution\n",
        "Anaconda is an open-source package manager, environment manager, and distribution of the Python and R programming languages. It is commonly used for large-scale data processing, scientific computing, and predictive analytics, serving data scientists, developers, business analysts, and those working in DevOps.\n",
        "\n",
        "Anaconda offers a collection of over 720 open-source packages, and is available in both free and paid versions. The Anaconda distribution ships with the conda command-line utility. You can learn more about Anaconda and conda by reading the Anaconda Documentation pages."
      ]
    },
    {
      "metadata": {
        "id": "289839_zMb4f",
        "colab_type": "text"
      },
      "cell_type": "markdown",
      "source": [
        "### Why Anaconda?\n",
        "* User level install of the version of python you want\n",
        "* Able to install/update packages completely independent of system libraries or admin privileges\n",
        "* conda tool installs binary packages, rather than requiring compile resources like pip - again, handy if you have limited privileges for installing necessary libraries.\n",
        "* More or less eliminates the headaches of trying to figure out which version/release of package X is compatible with which version/release of package Y, both of which are required for the install of package Z\n",
        "* Comes either in full-meal-deal version, with numpy, scipy, PyQt, spyder IDE, etc. or in minimal / alacarte version (miniconda) where you can install what you want, when you need it\n",
        "* No risk of messing up required system libraries"
      ]
    },
    {
      "metadata": {
        "id": "DT0BGGdJMb4g",
        "colab_type": "text"
      },
      "cell_type": "markdown",
      "source": [
        "## Installing on Windows\n",
        "\n",
        "1. [Download the Anaconda installer](https://www.continuum.io/downloads).\n",
        "\n",
        "2. Optional: Verify data integrity with MD5 or SHA-256. More info on hashes\n",
        "\n",
        "3. Double click the installer to launch.\n",
        "\n",
        "  NOTE: If you encounter any issues during installation, temporarily disable your anti-virus software during install, then re-enable it after the installation concludes. If you have installed for all users, uninstall Anaconda and re-install it for your user only and try again.\n",
        "\n",
        "4. Click Next.\n",
        "\n",
        "5. Read the licensing terms and click I Agree.\n",
        "\n",
        "6. Select an install for “Just Me” unless you’re installing for all users (which requires Windows Administrator privileges).\n",
        "\n",
        "7. Select a destination folder to install Anaconda and click Next.\n",
        "\n",
        "  NOTE: Install Anaconda to a directory path that does not contain spaces or unicode characters.\n",
        "\n",
        "  NOTE: Do not install as Administrator unless admin privileges are required.\n",
        "\n",
        "8. Choose whether to add Anaconda to your PATH environment variable. We recommend not adding Anaconda to the PATH environment variable, since this can interfere with other software. Instead, use Anaconda software by opening Anaconda Navigator or the Anaconda Command Prompt from the Start Menu.\n",
        "\n",
        "9. Choose whether to register Anaconda as your default Python 3.6. Unless you plan on installing and running multiple versions of Anaconda, or multiple versions of Python, you should accept the default and leave this box checked.\n",
        "\n",
        "10. Click Install. You can click Show Details if you want to see all the packages Anaconda is installing.\n",
        "\n",
        "11. Click Next.\n",
        "\n",
        "12. After a successful installation you will see the “Thanks for installing Anaconda” image:\n",
        " <img src=\"Images/anaconda-install-win.png\">\n",
        " \n",
        "13. You can leave the boxes checked “Learn more about Anaconda Cloud” and “Learn more about Anaconda Support” if you wish to read more about this cloud package management service and Anaconda support. Click Finish.\n",
        "\n",
        "14. After your install is complete, verify it by opening Anaconda Navigator, a program that is included with Anaconda. From your Windows Start menu, select the shortcut Anaconda Navigator. If Navigator opens, you have successfully installed Anaconda.\n"
      ]
    },
    {
      "metadata": {
        "id": "hih2aJbQMb4h",
        "colab_type": "text"
      },
      "cell_type": "markdown",
      "source": [
        "## Installing on macOS\n",
        "1. Download the [graphical macOS installer](https://www.continuum.io/downloads#macos) for your version of Python.\n",
        "\n",
        "2. OPTIONAL: Verify data integrity with MD5 or SHA-256. For more information on hashes, see What about cryptographic hash verification?.\n",
        "\n",
        "3. Double-click the .pkg file.\n",
        "\n",
        "4. Answer the prompts on the Introduction, Read Me and License screens.\n",
        "\n",
        "5. On the Destination Select screen, select Install for me only.\n",
        "\n",
        " NOTE: If you get the error message “You cannot install Anaconda in this location,” reselect Install for me only.\n",
        " <img src=\"Images/osxbug2.png\">\n",
        "\n",
        "6. On the Installation Type screen, you may choose to install in another location. The standard install puts Anaconda in your home user directory:\n",
        " <img src=\"Images/customizebutton.png\">\n",
        "\n",
        "7. Click the Install button.\n",
        "\n",
        "8. A successful installation displays the following screen:\n",
        " <img src=\"Images/anaconda-install-osx.png\">\n"
      ]
    },
    {
      "metadata": {
        "id": "7rUJYJzCMb4i",
        "colab_type": "text"
      },
      "cell_type": "markdown",
      "source": [
        "## Installing on Linux\n",
        "\n",
        "1. In your browser, download the Anaconda installer for Linux.\n",
        "\n",
        "2. Optional: Verify data integrity with MD5 or SHA-256. (For more information on hashes, see cryptographic hash validation.)\n",
        "\n",
        "    Run the following:\n",
        "\n",
        "    __md5sum /path/filename__\n",
        "    OR:\n",
        "\n",
        "    __sha256sum /path/filename__\n",
        "3. Verify results against the proper hash page to make sure the hashes match.\n",
        "\n",
        "4. Enter the following to install Anaconda for Python 3.6:\n",
        "\n",
        " __bash ~/Downloads/Anaconda3-4.4.0-Linux-x86_64.sh__\n",
        " OR\n",
        "\n",
        " Enter the following to install Anaconda for Python 2.7:\n",
        "\n",
        " __bash ~/Downloads/Anaconda2-4.4.0-Linux-x86_64.sh__\n",
        " NOTE: You should include the bash command regardless of whether you are using Bash shell.\n",
        "\n",
        " NOTE: Replace actual download path and filename as necessary.\n",
        "\n",
        " NOTE: Install Anaconda as a user unless root privileges are required.\n",
        "\n",
        "5. The installer prompts “In order to continue the installation process, please review the license agreement.” Click Enter to view license terms.\n",
        "\n",
        "6. Scroll to the bottom of the license terms and enter yes to agree to them.\n",
        "\n",
        "7. The installer prompts you to click Enter to accept the default install location, press CTRL-C to cancel the installation, or specify an alternate installation directory. If you accept the default install location, the installer displays __'PREFIX=/home/\"user\"/anaconda\"2 or 3\"' and continues the installation. It may take a few minutes to complete.__\n",
        "\n",
        "   The installer prompts “Do you wish the installer to prepend the Anaconda\"2 or 3\" install location to PATH in your /home/\"user\"/.bashrc ?” We recommend yes.\n",
        "\n",
        " NOTE: If you enter “no”, you will need to manually specify the path to Anaconda when using Anaconda. To manually add the prepended path, edit file .bashrc to add ~/anaconda\"2 or 3\"/bin to your path manually using:\n",
        "\n",
        "8. __export PATH=\"/home/\"user\"/anaconda\"2 or 3\"/bin:$PATH\"__\n",
        " Replace /home/\"user\"/anaconda\"2 or 3\" with the actual path.\n",
        "\n",
        "9. The installer finishes and displays “Thank you for installing Anaconda\"2 or 3\"!”\n",
        "\n",
        "10. Close and open your terminal window for the installation to take effect, or you can enter the command source ~/.bashrc.\n",
        "\n",
        "  Enter conda list. If the installation was successful, the terminal window should display a list of installed Anaconda packages.\n",
        "\n",
        "  NOTE: Power8 users: Navigate to your Anaconda directory and run this command:\n",
        "\n",
        " __conda install libgfortran__"
      ]
    },
    {
      "metadata": {
        "id": "ql_DQ14oMb4j",
        "colab_type": "text"
      },
      "cell_type": "markdown",
      "source": [
        "## What are Jupyter notebook?"
      ]
    },
    {
      "metadata": {
        "id": "Ad4FX79XMb4k",
        "colab_type": "text"
      },
      "cell_type": "markdown",
      "source": [
        "The notebook is a web application that allows you to combine explanatory text, math equations, code, and visualizations all in one easily sharable document.\n",
        "\n",
        "Notebooks have quickly become an essential tool when working with data. You'll find them being used for data cleaning and exploration, visualization, machine learning, and big data analysis. Typically you'd be doing this work in a terminal, either the normal Python shell or with IPython. Your visualizations would be in separate windows, any documentation would be in separate documents, along with various scripts for functions and classes. However, with notebooks, all of these are in one place and easily read together.\n",
        "\n",
        "Notebooks are also rendered automatically on GitHub. It’s a great feature that lets you easily share your work. There is also [http://nbviewer.jupyter.org/](http://nbviewer.jupyter.org/) that renders the notebooks from your GitHub repo or from notebooks stored elsewhere.\n",
        "\n"
      ]
    },
    {
      "metadata": {
        "id": "H8cMg0NnMb4l",
        "colab_type": "text"
      },
      "cell_type": "markdown",
      "source": [
        "## How notebook works?\n"
      ]
    },
    {
      "metadata": {
        "id": "dlmgJoA-Mb4m",
        "colab_type": "text"
      },
      "cell_type": "markdown",
      "source": [
        "Jupyter notebooks grew out of the IPython project started by Fernando Perez. IPython is an interactive shell, similar to the normal Python shell but with great features like syntax highlighting and code completion. Originally, notebooks worked by sending messages from the web app (the notebook you see in the browser) to an IPython kernel (an IPython application running in the background). The kernel executed the code, then sent it back to the notebook. The current architecture is similar, drawn out below.\n",
        "<img src=\"Images/notebook-components.png\">\n",
        "\n",
        "\n",
        "The central point is the notebook server. You connect to the server through your browser and the notebook is rendered as a web app. Code you write in the web app is sent through the server to the kernel. The kernel runs the code and sends it back to the server, then any output is rendered back in the browser. When you save the notebook, it is written to the server as a JSON file with a .ipynb file extension.\n",
        "\n",
        "The great part of this architecture is that the kernel doesn't need to run Python. Since the notebook and the kernel are separate, code in any language can be sent between them. For example, two of the earlier non-Python kernels were for the R and Julia languages. With an R kernel, code written in R will be sent to the R kernel where it is executed, exactly the same as Python code running on a Python kernel. IPython notebooks were renamed because notebooks became language agnostic. The new name Jupyter comes from the combination of Julia, Python, and R. If you're interested, here's a list of available kernels.\n",
        "\n",
        "Another benefit is that the server can be run anywhere and accessed via the internet. Typically you'll be running the server on your own machine where all your data and notebook files are stored. But, you could also set up a server on a remote machine or cloud instance like Amazon's EC2. Then, you can access the notebooks in your browser from anywhere in the world.\n",
        "\n"
      ]
    },
    {
      "metadata": {
        "id": "wSbQc7PoMb4n",
        "colab_type": "text"
      },
      "cell_type": "markdown",
      "source": [
        "## Installing Jupyter Notebook"
      ]
    },
    {
      "metadata": {
        "id": "PHr3v3zFMb4o",
        "colab_type": "text"
      },
      "cell_type": "markdown",
      "source": [
        "By far the easiest way to install Jupyter is with Anaconda. Jupyter notebooks automatically come with the distribution. You'll be able to use notebooks from the default environment.\n",
        "\n",
        "To install Jupyter notebooks in a conda environment, use __conda install jupyter notebook__.\n",
        "\n",
        "Jupyter notebooks are also available through pip with __pip install jupyter notebook__."
      ]
    },
    {
      "metadata": {
        "id": "tzXYbhtoMb4o",
        "colab_type": "text"
      },
      "cell_type": "markdown",
      "source": [
        "## Launching the notebook server\n",
        "\n",
        "To start a notebook server, enter jupyter notebook in your terminal or console. This will start the server in the directory you ran the command in. That means any notebook files will be saved in that directory. Typically you'd want to start the server in the directory where your notebooks live. However, you can navigate through your file system to where the notebooks are.\n",
        "\n",
        "When you run the command (try it yourself!), the server home should open in your browser. By default, the notebook server runs at http://localhost:8888. If you aren't familiar with this, localhost means your computer and 8888 is the port the server is communicating on. As long as the server is still running, you can always come back to it by going to http://localhost:8888 in your browser.\n",
        "\n",
        "If you start another server, it'll try to use port 8888, but since it is occupied, the new server will run on port 8889. Then, you'd connect to it at http://localhost:8889. Every additional notebook server will increment the port number like this.\n",
        "\n",
        "If you tried starting your own server, it should look something like this:\n",
        "<img src=\"Images/notebook-server.png\">"
      ]
    },
    {
      "metadata": {
        "id": "EHy4TTmgMb4p",
        "colab_type": "text"
      },
      "cell_type": "markdown",
      "source": [
        "# -------------------------------------------------------------------------------------------------------------"
      ]
    },
    {
      "metadata": {
        "id": "UEvPIbMAMb4s",
        "colab_type": "text"
      },
      "cell_type": "markdown",
      "source": [
        "## Basics of Python"
      ]
    },
    {
      "metadata": {
        "id": "GgIyJL5YMb4t",
        "colab_type": "text"
      },
      "cell_type": "markdown",
      "source": [
        "Python is a high-level, dynamically typed multiparadigm programming language. Python code is often said to be almost like pseudocode, since it allows you to express very powerful ideas in very few lines of code while being very readable. As an example, here is an implementation of the classic quicksort algorithm in Python:"
      ]
    },
    {
      "metadata": {
        "id": "HfRSgaytMb4u",
        "colab_type": "text"
      },
      "cell_type": "markdown",
      "source": [
        "### Fundamental types"
      ]
    },
    {
      "metadata": {
        "id": "aYX9-bpqMb4v",
        "colab_type": "text"
      },
      "cell_type": "markdown",
      "source": [
        "### Integers\n",
        "\n",
        "Integer literals are created by any number without a decimal or complex component."
      ]
    },
    {
      "metadata": {
        "id": "Tcx186rsPUyu",
        "colab_type": "code",
        "colab": {
          "base_uri": "https://localhost:8080/",
          "height": 50
        },
        "outputId": "d0724bcc-a74c-4998-f8b7-1fab18fb6252"
      },
      "cell_type": "code",
      "source": [
        "# integers\n",
        "x = 1\n",
        "print(x)\n",
        "type(x)"
      ],
      "execution_count": 7,
      "outputs": [
        {
          "output_type": "stream",
          "text": [
            "1\n"
          ],
          "name": "stdout"
        },
        {
          "output_type": "execute_result",
          "data": {
            "text/plain": [
              "int"
            ]
          },
          "metadata": {
            "tags": []
          },
          "execution_count": 7
        }
      ]
    },
    {
      "metadata": {
        "id": "n6Mk3qMuMb41",
        "colab_type": "text"
      },
      "cell_type": "markdown",
      "source": [
        "### Floats\n",
        "\n",
        "Float literals can be created by adding a decimal component to a number."
      ]
    },
    {
      "metadata": {
        "id": "CcV6XlszMb42",
        "colab_type": "code",
        "colab": {},
        "outputId": "8053b766-3580-418b-b41f-437760735d3f"
      },
      "cell_type": "code",
      "source": [
        "# float\n",
        "x = 1.0\n",
        "type(x)"
      ],
      "execution_count": 0,
      "outputs": [
        {
          "output_type": "execute_result",
          "data": {
            "text/plain": [
              "float"
            ]
          },
          "metadata": {
            "tags": []
          },
          "execution_count": 2
        }
      ]
    },
    {
      "metadata": {
        "id": "BR6kG4U0Mb46",
        "colab_type": "text"
      },
      "cell_type": "markdown",
      "source": [
        "### Boolean\n",
        "\n",
        "Boolean can be defined by typing True/False without quotes"
      ]
    },
    {
      "metadata": {
        "id": "NrkgnTTlMb46",
        "colab_type": "code",
        "colab": {},
        "outputId": "9292502b-ec48-4a1f-cf92-935cc532ba50"
      },
      "cell_type": "code",
      "source": [
        "# boolean\n",
        "b1 = True\n",
        "b2 = False\n",
        "\n",
        "type(b1)"
      ],
      "execution_count": 0,
      "outputs": [
        {
          "output_type": "execute_result",
          "data": {
            "text/plain": [
              "bool"
            ]
          },
          "metadata": {
            "tags": []
          },
          "execution_count": 3
        }
      ]
    },
    {
      "metadata": {
        "id": "xnPYeaEmMb49",
        "colab_type": "text"
      },
      "cell_type": "markdown",
      "source": [
        "### Strings\n",
        "\n",
        "String literals can be defined with any of single quotes ('), double quotes (\") or triple quotes (''' or \"\"\"). All give the same result with two important differences.\n",
        "\n",
        "If you quote with single quotes, you do not have to escape double quotes and vice-versa.\n",
        "If you quote with triple quotes, your string can span multiple lines."
      ]
    },
    {
      "metadata": {
        "id": "UajNWpe-Mb4-",
        "colab_type": "code",
        "colab": {
          "base_uri": "https://localhost:8080/",
          "height": 34
        },
        "outputId": "28cb425b-9759-40dd-ee93-4e148c1f790c"
      },
      "cell_type": "code",
      "source": [
        "# string\n",
        "name1 = 'your name'\n",
        "type(name1)"
      ],
      "execution_count": 8,
      "outputs": [
        {
          "output_type": "execute_result",
          "data": {
            "text/plain": [
              "str"
            ]
          },
          "metadata": {
            "tags": []
          },
          "execution_count": 8
        }
      ]
    },
    {
      "metadata": {
        "id": "nzfFS0OCQFhk",
        "colab_type": "code",
        "colab": {}
      },
      "cell_type": "code",
      "source": [
        "# string with tripple quotes\n",
        "firstname = \"\"\"\n",
        "Jaydeep\n",
        "Subhash\n",
        "Potdar\n",
        "\"\"\""
      ],
      "execution_count": 0,
      "outputs": []
    },
    {
      "metadata": {
        "id": "sQ5Sx1cKQTju",
        "colab_type": "code",
        "colab": {
          "base_uri": "https://localhost:8080/",
          "height": 34
        },
        "outputId": "58080bc0-3027-49a7-e295-6bfdb9e9f110"
      },
      "cell_type": "code",
      "source": [
        "firstname"
      ],
      "execution_count": 12,
      "outputs": [
        {
          "output_type": "execute_result",
          "data": {
            "text/plain": [
              "'\\nJaydeep\\nSubhash\\nPotdar\\n'"
            ]
          },
          "metadata": {
            "tags": []
          },
          "execution_count": 12
        }
      ]
    },
    {
      "metadata": {
        "id": "NQzBCKcZMb5C",
        "colab_type": "text"
      },
      "cell_type": "markdown",
      "source": [
        "### Complex\n",
        "\n",
        "Complex literals can be created by using the notation x + yj where x is the real component and y is the imaginary component."
      ]
    },
    {
      "metadata": {
        "id": "ueY4mcH-Mb5D",
        "colab_type": "code",
        "colab": {},
        "outputId": "392014f2-dc57-4eb3-94b3-acf312a972a1"
      },
      "cell_type": "code",
      "source": [
        "# complex numbers: note the use of `j` to specify the imaginary part\n",
        "x = 1.0 - 2.0j\n",
        "type(x)"
      ],
      "execution_count": 0,
      "outputs": [
        {
          "output_type": "execute_result",
          "data": {
            "text/plain": [
              "complex"
            ]
          },
          "metadata": {
            "tags": []
          },
          "execution_count": 4
        }
      ]
    },
    {
      "metadata": {
        "scrolled": true,
        "id": "PYGsT8IlMb5H",
        "colab_type": "code",
        "colab": {},
        "outputId": "91a11f46-6ba0-494b-c7ce-0c48f360b2b0"
      },
      "cell_type": "code",
      "source": [
        "print(x)"
      ],
      "execution_count": 0,
      "outputs": [
        {
          "output_type": "stream",
          "text": [
            "(1-2j)\n"
          ],
          "name": "stdout"
        }
      ]
    },
    {
      "metadata": {
        "scrolled": true,
        "id": "LrCY13oFMb5K",
        "colab_type": "code",
        "colab": {},
        "outputId": "4c652596-1e5e-4f98-b43b-3d232a363e4a"
      },
      "cell_type": "code",
      "source": [
        "print(x.real, x.imag)"
      ],
      "execution_count": 0,
      "outputs": [
        {
          "output_type": "stream",
          "text": [
            "(1.0, -1.0)\n"
          ],
          "name": "stdout"
        }
      ]
    },
    {
      "metadata": {
        "id": "ae2pPMhRMb5N",
        "colab_type": "text"
      },
      "cell_type": "markdown",
      "source": [
        "### Variables\n",
        "\n",
        "#### Definining\n",
        "\n",
        "A variable in Python is defined through assignment. There is no concept of declaring a variable outside of that assignment."
      ]
    },
    {
      "metadata": {
        "id": "AinHyiDWMb5O",
        "colab_type": "code",
        "colab": {},
        "outputId": "226e176f-b31a-40a2-b736-2034a7f8fe9f"
      },
      "cell_type": "code",
      "source": [
        "tenth = 10\n",
        "tenth"
      ],
      "execution_count": 0,
      "outputs": [
        {
          "output_type": "execute_result",
          "data": {
            "text/plain": [
              "10"
            ]
          },
          "metadata": {
            "tags": []
          },
          "execution_count": 6
        }
      ]
    },
    {
      "metadata": {
        "id": "wfw64yi9Mb5T",
        "colab_type": "text"
      },
      "cell_type": "markdown",
      "source": [
        "#### Dynamic Typing\n",
        "\n",
        "In Python, while the value that a variable points to has a type, the variable itself has no strict type in its definition. You can re-use the same variable to point to an object of a different type. It may be helpful to think of variables as \"labels\" associated with objects."
      ]
    },
    {
      "metadata": {
        "id": "qsVzHeHRMb5U",
        "colab_type": "code",
        "colab": {},
        "outputId": "ce616560-2355-4004-fe94-acc68dc1d8fc"
      },
      "cell_type": "code",
      "source": [
        "ten = 10\n",
        "ten"
      ],
      "execution_count": 0,
      "outputs": [
        {
          "output_type": "execute_result",
          "data": {
            "text/plain": [
              "10"
            ]
          },
          "metadata": {
            "tags": []
          },
          "execution_count": 7
        }
      ]
    },
    {
      "metadata": {
        "id": "wgAfSxxXMb5X",
        "colab_type": "code",
        "colab": {},
        "outputId": "e3628b25-3d87-4c57-e815-b8537ee3cfa0"
      },
      "cell_type": "code",
      "source": [
        "ten = 'ten'\n",
        "ten"
      ],
      "execution_count": 0,
      "outputs": [
        {
          "output_type": "execute_result",
          "data": {
            "text/plain": [
              "'ten'"
            ]
          },
          "metadata": {
            "tags": []
          },
          "execution_count": 8
        }
      ]
    },
    {
      "metadata": {
        "id": "UeiHwLwoMb5Z",
        "colab_type": "text"
      },
      "cell_type": "markdown",
      "source": [
        "#### Strong Typing\n",
        "\n",
        "While Python allows you to be very flexible with your types, you must still be aware of what those types are. Certain operations will require certain types as arguments."
      ]
    },
    {
      "metadata": {
        "id": "kRie0ih4Mb5a",
        "colab_type": "code",
        "colab": {
          "base_uri": "https://localhost:8080/",
          "height": 162
        },
        "outputId": "a8133081-d584-4931-f3b5-e36c0801ba11"
      },
      "cell_type": "code",
      "source": [
        "'Day ' + 1"
      ],
      "execution_count": 13,
      "outputs": [
        {
          "output_type": "error",
          "ename": "TypeError",
          "evalue": "ignored",
          "traceback": [
            "\u001b[0;31m---------------------------------------------------------------------------\u001b[0m",
            "\u001b[0;31mTypeError\u001b[0m                                 Traceback (most recent call last)",
            "\u001b[0;32m<ipython-input-13-643fe001d103>\u001b[0m in \u001b[0;36m<module>\u001b[0;34m()\u001b[0m\n\u001b[0;32m----> 1\u001b[0;31m \u001b[0;34m'Day '\u001b[0m \u001b[0;34m+\u001b[0m \u001b[0;36m1\u001b[0m\u001b[0;34m\u001b[0m\u001b[0;34m\u001b[0m\u001b[0m\n\u001b[0m",
            "\u001b[0;31mTypeError\u001b[0m: must be str, not int"
          ]
        }
      ]
    },
    {
      "metadata": {
        "id": "brkGJ63AMb5c",
        "colab_type": "text"
      },
      "cell_type": "markdown",
      "source": [
        "This behavior is different from some other loosely-typed languages. If you were to do the same thing in JavaScript, you would get a different result.\n",
        "\n",
        "In Python, however, it is possible to change the type of an object through builtin functions."
      ]
    },
    {
      "metadata": {
        "id": "tGYznOkJMb5d",
        "colab_type": "code",
        "colab": {
          "base_uri": "https://localhost:8080/",
          "height": 34
        },
        "outputId": "61c8d2ff-b646-44bf-c6c8-b80e2089d276"
      },
      "cell_type": "code",
      "source": [
        "'Day ' + str(1)"
      ],
      "execution_count": 14,
      "outputs": [
        {
          "output_type": "execute_result",
          "data": {
            "text/plain": [
              "'Day 1'"
            ]
          },
          "metadata": {
            "tags": []
          },
          "execution_count": 14
        }
      ]
    },
    {
      "metadata": {
        "id": "N44vq9mTMb5f",
        "colab_type": "text"
      },
      "cell_type": "markdown",
      "source": [
        "## Simple Expressions\n",
        "\n",
        "### Boolean Evaluation\n",
        "\n",
        "Boolean expressions are created with the keywords and, or, not and is. For example:"
      ]
    },
    {
      "metadata": {
        "id": "s73RgjUyMb5g",
        "colab_type": "code",
        "colab": {
          "base_uri": "https://localhost:8080/",
          "height": 34
        },
        "outputId": "43286a29-d3a8-4156-8333-61b45f822253"
      },
      "cell_type": "code",
      "source": [
        "True and False"
      ],
      "execution_count": 15,
      "outputs": [
        {
          "output_type": "execute_result",
          "data": {
            "text/plain": [
              "False"
            ]
          },
          "metadata": {
            "tags": []
          },
          "execution_count": 15
        }
      ]
    },
    {
      "metadata": {
        "id": "JDGynGXOMb5i",
        "colab_type": "code",
        "colab": {
          "base_uri": "https://localhost:8080/",
          "height": 34
        },
        "outputId": "f9a596c1-d934-4f5c-db76-ce1ebc07cee9"
      },
      "cell_type": "code",
      "source": [
        "True or False"
      ],
      "execution_count": 16,
      "outputs": [
        {
          "output_type": "execute_result",
          "data": {
            "text/plain": [
              "True"
            ]
          },
          "metadata": {
            "tags": []
          },
          "execution_count": 16
        }
      ]
    },
    {
      "metadata": {
        "id": "UPCWdQBfMb5l",
        "colab_type": "code",
        "colab": {
          "base_uri": "https://localhost:8080/",
          "height": 34
        },
        "outputId": "9f8e8691-f826-4186-83c1-9aa408fda452"
      },
      "cell_type": "code",
      "source": [
        "not True"
      ],
      "execution_count": 17,
      "outputs": [
        {
          "output_type": "execute_result",
          "data": {
            "text/plain": [
              "False"
            ]
          },
          "metadata": {
            "tags": []
          },
          "execution_count": 17
        }
      ]
    },
    {
      "metadata": {
        "id": "R-OMFhEHMb5q",
        "colab_type": "code",
        "colab": {
          "base_uri": "https://localhost:8080/",
          "height": 34
        },
        "outputId": "7c966b76-073d-4e27-9059-c6a9490a1497"
      },
      "cell_type": "code",
      "source": [
        "not False"
      ],
      "execution_count": 18,
      "outputs": [
        {
          "output_type": "execute_result",
          "data": {
            "text/plain": [
              "True"
            ]
          },
          "metadata": {
            "tags": []
          },
          "execution_count": 18
        }
      ]
    },
    {
      "metadata": {
        "id": "AYJemRpjMb5t",
        "colab_type": "code",
        "colab": {
          "base_uri": "https://localhost:8080/",
          "height": 34
        },
        "outputId": "5d24e3ab-7b23-4d59-b522-466bd65a0632"
      },
      "cell_type": "code",
      "source": [
        "True is True"
      ],
      "execution_count": 19,
      "outputs": [
        {
          "output_type": "execute_result",
          "data": {
            "text/plain": [
              "True"
            ]
          },
          "metadata": {
            "tags": []
          },
          "execution_count": 19
        }
      ]
    },
    {
      "metadata": {
        "id": "jVn1p8-xMb5x",
        "colab_type": "code",
        "colab": {
          "base_uri": "https://localhost:8080/",
          "height": 34
        },
        "outputId": "bc310352-636a-4720-a255-97e688e0234e"
      },
      "cell_type": "code",
      "source": [
        "True is False"
      ],
      "execution_count": 20,
      "outputs": [
        {
          "output_type": "execute_result",
          "data": {
            "text/plain": [
              "False"
            ]
          },
          "metadata": {
            "tags": []
          },
          "execution_count": 20
        }
      ]
    },
    {
      "metadata": {
        "id": "a11urNJlMb50",
        "colab_type": "code",
        "colab": {
          "base_uri": "https://localhost:8080/",
          "height": 34
        },
        "outputId": "694c8d93-ca6d-4e52-b70c-ada898fe61b7"
      },
      "cell_type": "code",
      "source": [
        "'a' is 'a'"
      ],
      "execution_count": 21,
      "outputs": [
        {
          "output_type": "execute_result",
          "data": {
            "text/plain": [
              "True"
            ]
          },
          "metadata": {
            "tags": []
          },
          "execution_count": 21
        }
      ]
    },
    {
      "metadata": {
        "id": "7Tmn049qMb54",
        "colab_type": "text"
      },
      "cell_type": "markdown",
      "source": [
        "## Branching (if / elif / else)\n",
        "\n",
        "Python provides the if statement to allow branching based on conditions. Multiple elif checks can also be performed followed by an optional else clause. The if statement can be used with any evaluation of truthiness."
      ]
    },
    {
      "metadata": {
        "id": "Q5epKjnPMb55",
        "colab_type": "code",
        "colab": {
          "base_uri": "https://localhost:8080/",
          "height": 34
        },
        "outputId": "3302e201-86d3-4b16-f53e-42f82ccc6ad2"
      },
      "cell_type": "code",
      "source": [
        "i = 3\n",
        "if i < 3:\n",
        "    print('less than 3')\n",
        "elif i < 5:\n",
        "    print('less than 5')\n",
        "else:\n",
        "    print('5 or more')\n"
      ],
      "execution_count": 22,
      "outputs": [
        {
          "output_type": "stream",
          "text": [
            "less than 5\n"
          ],
          "name": "stdout"
        }
      ]
    },
    {
      "metadata": {
        "id": "EJeOvIT0Mb58",
        "colab_type": "code",
        "colab": {
          "base_uri": "https://localhost:8080/",
          "height": 34
        },
        "outputId": "0be68ae9-7984-4fe3-a025-770673ebcce7"
      },
      "cell_type": "code",
      "source": [
        "i = 7\n",
        "if i < 5:\n",
        "  print('less than 5')\n",
        "elif i < 7:\n",
        "    print('less than 7')\n",
        "else:\n",
        "      print('7 or more')"
      ],
      "execution_count": 26,
      "outputs": [
        {
          "output_type": "stream",
          "text": [
            "7 or more\n"
          ],
          "name": "stdout"
        }
      ]
    },
    {
      "metadata": {
        "id": "4WfF6pa1Mb5-",
        "colab_type": "text"
      },
      "cell_type": "markdown",
      "source": [
        "## Block Structure and Whitespace\n",
        "\n",
        "The code that is executed when a specific condition is met is defined in a \"block.\" In Python, the block structure is signalled by changes in indentation. Each line of code in a certain block level must be indented equally and indented more than the surrounding scope. The standard (defined in PEP-8) is to use 4 spaces for each level of block indentation. Statements preceding blocks generally end with a colon (:).\n",
        "\n",
        "Because there are no semi-colons or other end-of-line indicators in Python, breaking lines of code requires either a continuation character (\\ as the last char) or for the break to occur inside an unfinished structure (such as open parentheses).\n",
        "\n"
      ]
    },
    {
      "metadata": {
        "id": "by53vYoSMb5-",
        "colab_type": "text"
      },
      "cell_type": "markdown",
      "source": [
        "## Advanced Types: Containers\n",
        "\n",
        "One of the great advantages of Python as a programming language is the ease with which it allows you to manipulate containers. Containers (or collections) are an integral part of the language and, as you’ll see, built in to the core of the language’s syntax. As a result, thinking in a Pythonic manner means thinking about containers.\n",
        "\n",
        "### Lists\n",
        "\n",
        "The first container type that we will look at is the list. A list represents an ordered, mutable collection of objects. You can mix and match any type of object in a list, add to it and remove from it at will.\n",
        "\n",
        "Creating Empty Lists. To create an empty list, you can use empty square brackets or use the list() function with no arguments.\n",
        "\n"
      ]
    },
    {
      "metadata": {
        "id": "LtBBA99LMb5_",
        "colab_type": "code",
        "colab": {},
        "outputId": "be721630-5375-4e59-cfbf-aed573a3fe56"
      },
      "cell_type": "code",
      "source": [
        "l = []\n",
        "l"
      ],
      "execution_count": 0,
      "outputs": [
        {
          "output_type": "execute_result",
          "data": {
            "text/plain": [
              "[]"
            ]
          },
          "metadata": {
            "tags": []
          },
          "execution_count": 27
        }
      ]
    },
    {
      "metadata": {
        "id": "hkrmMF9RMb6E",
        "colab_type": "code",
        "colab": {},
        "outputId": "d878a83c-7325-44d8-f21e-3407ec1f303c"
      },
      "cell_type": "code",
      "source": [
        "l = list()\n",
        "l"
      ],
      "execution_count": 0,
      "outputs": [
        {
          "output_type": "execute_result",
          "data": {
            "text/plain": [
              "[]"
            ]
          },
          "metadata": {
            "tags": []
          },
          "execution_count": 28
        }
      ]
    },
    {
      "metadata": {
        "id": "L24ZSCa8Mb6I",
        "colab_type": "text"
      },
      "cell_type": "markdown",
      "source": [
        "Initializing Lists. You can initialize a list with content of any sort using the same square bracket notation. The list() function also takes an iterable as a single argument and returns a shallow copy of that iterable as a new list. A list is one such iterable as we’ll see soon, and we’ll see others later."
      ]
    },
    {
      "metadata": {
        "id": "Mf83BYDdMb6I",
        "colab_type": "code",
        "colab": {},
        "outputId": "33dea317-da40-4d41-c872-b820f7f91fc6"
      },
      "cell_type": "code",
      "source": [
        "l = ['a', 'b', 'c']\n",
        "l"
      ],
      "execution_count": 0,
      "outputs": [
        {
          "output_type": "execute_result",
          "data": {
            "text/plain": [
              "['a', 'b', 'c']"
            ]
          },
          "metadata": {
            "tags": []
          },
          "execution_count": 14
        }
      ]
    },
    {
      "metadata": {
        "id": "MgdCwzrWMb6L",
        "colab_type": "code",
        "colab": {},
        "outputId": "021f27c7-8e72-4466-9930-f849d52dd60f"
      },
      "cell_type": "code",
      "source": [
        "l = ['a',6]\n",
        "l"
      ],
      "execution_count": 0,
      "outputs": [
        {
          "output_type": "execute_result",
          "data": {
            "text/plain": [
              "['a', 6]"
            ]
          },
          "metadata": {
            "tags": []
          },
          "execution_count": 15
        }
      ]
    },
    {
      "metadata": {
        "id": "WqMLib1WMb6P",
        "colab_type": "code",
        "colab": {},
        "outputId": "506dd4b9-0ecc-4886-a065-ba54f04844fc"
      },
      "cell_type": "code",
      "source": [
        "l2 = list(l)\n",
        "l2\n"
      ],
      "execution_count": 0,
      "outputs": [
        {
          "output_type": "execute_result",
          "data": {
            "text/plain": [
              "['a', 'b', 'c']"
            ]
          },
          "metadata": {
            "tags": []
          },
          "execution_count": 30
        }
      ]
    },
    {
      "metadata": {
        "id": "XLgXd1BiMb6X",
        "colab_type": "text"
      },
      "cell_type": "markdown",
      "source": [
        "A Python string is also a sequence of characters and can be treated as an iterable over those characters. Combined with the list() function, a new list of the characters can easily be generated."
      ]
    },
    {
      "metadata": {
        "id": "hvSxqrQGMb6Y",
        "colab_type": "code",
        "colab": {},
        "outputId": "815ede8c-bfc3-441e-8fdf-4b806a227e6c"
      },
      "cell_type": "code",
      "source": [
        "list('abcdef')"
      ],
      "execution_count": 0,
      "outputs": [
        {
          "output_type": "execute_result",
          "data": {
            "text/plain": [
              "['a', 'b', 'c', 'd', 'e', 'f']"
            ]
          },
          "metadata": {
            "tags": []
          },
          "execution_count": 31
        }
      ]
    },
    {
      "metadata": {
        "id": "ckaijvwrMb6c",
        "colab_type": "text"
      },
      "cell_type": "markdown",
      "source": [
        "Adding. You can append to a list very easily (add to the end) or insert at an arbitrary index."
      ]
    },
    {
      "metadata": {
        "id": "BVVXALtHMb6d",
        "colab_type": "code",
        "colab": {},
        "outputId": "27f64583-5acc-43d7-ee7b-c196e0b742ef"
      },
      "cell_type": "code",
      "source": [
        "l = []\n",
        "l.append('b')\n",
        "l.append('c')\n",
        "l.insert(1, 56)\n",
        "l"
      ],
      "execution_count": 0,
      "outputs": [
        {
          "output_type": "execute_result",
          "data": {
            "text/plain": [
              "['b', 56, 'c']"
            ]
          },
          "metadata": {
            "tags": []
          },
          "execution_count": 20
        }
      ]
    },
    {
      "metadata": {
        "id": "-temIL-HMb6g",
        "colab_type": "text"
      },
      "cell_type": "markdown",
      "source": [
        "Iterating. Iterating over a list is very simple. All iterables in Python allow access to elements using the for ... in statement. In this structure, each element in the iterable is sequentially assigned to the \"loop variable\" for a single pass of the loop, during which the enclosed block is executed."
      ]
    },
    {
      "metadata": {
        "id": "pq140JgJMb6h",
        "colab_type": "code",
        "colab": {},
        "outputId": "47b94052-53ae-40c6-a28d-75640d23fc0f"
      },
      "cell_type": "code",
      "source": [
        "for every_letter in l:\n",
        "    print(every_letter)"
      ],
      "execution_count": 0,
      "outputs": [
        {
          "output_type": "stream",
          "text": [
            "b\n",
            "56\n",
            "c\n"
          ],
          "name": "stdout"
        }
      ]
    },
    {
      "metadata": {
        "id": "pPogr7seMb6j",
        "colab_type": "text"
      },
      "cell_type": "markdown",
      "source": [
        "## Loops\n",
        "\n",
        "In general, statements are executed sequentially: The first statement in a function is executed first, followed by the second, and so on. There may be a situation when you need to execute a block of code several number of times.\n",
        "\n",
        "Programming languages provide various control structures that allow for more complicated execution paths.\n",
        "\n",
        "### For loop\n",
        "\n",
        "The for loop in Python is used to iterate over a sequence (list, tuple, string) or other iterable objects. Iterating over a sequence is called traversal.\n",
        "\n",
        "Loop continues until we reach the last item in the sequence. The body of for loop is separated from the rest of the code using indentation.\n",
        "\n",
        "\n",
        "<img src=\"Images/forLoop.jpg\">"
      ]
    },
    {
      "metadata": {
        "id": "dRiyhbp7Mb6k",
        "colab_type": "code",
        "colab": {},
        "outputId": "fdb801d7-e8f2-424e-dd22-113477713164"
      },
      "cell_type": "code",
      "source": [
        "# Program to find the sum of all numbers stored in a list\n",
        "\n",
        "# List of numbers\n",
        "numbers = [6, 5, 3, 8, 4, 2, 5, 4,9]\n",
        "\n",
        "# variable to store the sum\n",
        "sum = 0\n",
        "\n",
        "# iterate over the list\n",
        "for val in numbers:\n",
        "    sum = sum+val\n",
        "\n",
        "# Output: The sum is 48\n",
        "print(\"The sum is\", sum)"
      ],
      "execution_count": 0,
      "outputs": [
        {
          "output_type": "stream",
          "text": [
            "The sum is 46\n"
          ],
          "name": "stdout"
        }
      ]
    },
    {
      "metadata": {
        "id": "euNyk1vUMb6o",
        "colab_type": "text"
      },
      "cell_type": "markdown",
      "source": [
        "### for loop with else\n",
        "A for loop can have an optional else block as well. The else part is executed if the items in the sequence used in for loop exhausts.\n",
        "\n",
        "break statement can be used to stop a for loop. In such case, the else part is ignored.\n",
        "\n",
        "Hence, a for loop's else part runs if no break occurs.\n",
        "\n",
        "Here is an example to illustrate this."
      ]
    },
    {
      "metadata": {
        "id": "QLFRCJcbMb6o",
        "colab_type": "code",
        "colab": {},
        "outputId": "b9e61a19-127a-491c-ba5c-8cc612f60677"
      },
      "cell_type": "code",
      "source": [
        "digits = [0, 1, 5]\n",
        "\n",
        "for i in digits:\n",
        "    print(i)\n",
        "else:\n",
        "    print(\"No items left.\")"
      ],
      "execution_count": 0,
      "outputs": [
        {
          "output_type": "stream",
          "text": [
            "0\n",
            "1\n",
            "5\n",
            "No items left.\n"
          ],
          "name": "stdout"
        }
      ]
    },
    {
      "metadata": {
        "id": "YoSZUwjBMb6s",
        "colab_type": "text"
      },
      "cell_type": "markdown",
      "source": [
        "## While loop\n",
        "\n",
        "The while loop in Python is used to iterate over a block of code as long as the test expression (condition) is true.\n",
        "\n",
        "We generally use this loop when we don't know beforehand, the number of times to iterate.\n",
        "\n",
        "In while loop, test expression is checked first. The body of the loop is entered only if the test_expression evaluates to True. After one iteration, the test expression is checked again. This process continues until the test_expression evaluates to False.\n",
        "\n",
        "In Python, the body of the while loop is determined through indentation.\n",
        "\n",
        "Body starts with indentation and the first unindented line marks the end.\n",
        "\n",
        "Python interprets any non-zero value as True. None and 0 are interpreted as False.\n",
        "\n",
        "<img src=\"Images/whileLoopFlowchart.jpg\">\n"
      ]
    },
    {
      "metadata": {
        "id": "c1PyGQOcMb6t",
        "colab_type": "code",
        "colab": {},
        "outputId": "e5ad4dd2-f2de-438c-a7e0-e18a66c5ad2f"
      },
      "cell_type": "code",
      "source": [
        "# Program to add natural\n",
        "# numbers upto \n",
        "# sum = 1+2+3+...+n\n",
        "\n",
        "# To take input from the user,\n",
        "# n = int(input(\"Enter n: \"))\n",
        "\n",
        "n = 10\n",
        "\n",
        "# initialize sum and counter\n",
        "sum = 0\n",
        "i = 1\n",
        "\n",
        "while i <= n:\n",
        "    sum = sum + i\n",
        "    i = i+1    # update counter\n",
        "\n",
        "# print the sum\n",
        "print(\"The sum is\", sum)"
      ],
      "execution_count": 0,
      "outputs": [
        {
          "output_type": "stream",
          "text": [
            "The sum is 55\n"
          ],
          "name": "stdout"
        }
      ]
    },
    {
      "metadata": {
        "id": "UytP05zgMb6v",
        "colab_type": "text"
      },
      "cell_type": "markdown",
      "source": [
        "## The range() function\n",
        "We can generate a sequence of numbers using range() function. range(10) will generate numbers from 0 to 9 (10 numbers).\n",
        "\n",
        "We can also define the start, stop and step size as range(start,stop,step size). step size defaults to 1 if not provided.\n",
        "\n",
        "This function does not store all the values in memory, it would be inefficient. So it remembers the start, stop, step size and generates the next number on the go.\n",
        "\n",
        "To force this function to output all the items, we can use the function list().\n",
        "\n",
        "The following example will clarify this."
      ]
    },
    {
      "metadata": {
        "id": "8X4kUFOtMb6x",
        "colab_type": "code",
        "colab": {},
        "outputId": "5a3c1532-5c1e-433a-9815-0c981f712d3a"
      },
      "cell_type": "code",
      "source": [
        "print(range(10))"
      ],
      "execution_count": 0,
      "outputs": [
        {
          "output_type": "stream",
          "text": [
            "range(0, 10)\n"
          ],
          "name": "stdout"
        }
      ]
    },
    {
      "metadata": {
        "id": "nmsXqGhtMb60",
        "colab_type": "code",
        "colab": {},
        "outputId": "de84d2df-ba97-4108-8f0d-8a8deea5a648"
      },
      "cell_type": "code",
      "source": [
        "print(list(range(10)))"
      ],
      "execution_count": 0,
      "outputs": [
        {
          "output_type": "stream",
          "text": [
            "[0, 1, 2, 3, 4, 5, 6, 7, 8, 9]\n"
          ],
          "name": "stdout"
        }
      ]
    },
    {
      "metadata": {
        "id": "_NaXmzDJMb64",
        "colab_type": "code",
        "colab": {},
        "outputId": "d53a1eac-d1bf-4d3d-cbcd-73e1a64ba423"
      },
      "cell_type": "code",
      "source": [
        "print(list(range(2, 8)))"
      ],
      "execution_count": 0,
      "outputs": [
        {
          "output_type": "stream",
          "text": [
            "[2, 3, 4, 5, 6, 7]\n"
          ],
          "name": "stdout"
        }
      ]
    },
    {
      "metadata": {
        "id": "nraPMHfxMb66",
        "colab_type": "code",
        "colab": {},
        "outputId": "b845efbb-8d93-451a-a1eb-cfa8c725a46a"
      },
      "cell_type": "code",
      "source": [
        "print(list(range(2, 20, 5)))"
      ],
      "execution_count": 0,
      "outputs": [
        {
          "output_type": "stream",
          "text": [
            "[2, 7, 12, 17]\n"
          ],
          "name": "stdout"
        }
      ]
    },
    {
      "metadata": {
        "id": "KTAXUXwTMb6-",
        "colab_type": "text"
      },
      "cell_type": "markdown",
      "source": [
        "We can use the range() function in for loops to iterate through a sequence of numbers. It can be combined with the len() function to iterate though a sequence using indexing. Here is an example."
      ]
    },
    {
      "metadata": {
        "id": "aYhB3QBbMb6_",
        "colab_type": "code",
        "colab": {},
        "outputId": "7915ed1c-5eb4-41bf-f30d-33492e5bf97f"
      },
      "cell_type": "code",
      "source": [
        "# Program to iterate through a list using indexing\n",
        "\n",
        "genre = ['pop', 'rock', 'jazz','sapna']\n",
        "\n",
        "# iterate over the list using index\n",
        "for i in range(len(genre)):\n",
        "    print(\"I like\", genre[i])"
      ],
      "execution_count": 0,
      "outputs": [
        {
          "output_type": "stream",
          "text": [
            "I like pop\n",
            "I like rock\n",
            "I like jazz\n",
            "I like sapna\n"
          ],
          "name": "stdout"
        }
      ]
    },
    {
      "metadata": {
        "id": "KjJyoy0WMb7C",
        "colab_type": "text"
      },
      "cell_type": "markdown",
      "source": [
        "## break and continue statement\n",
        "\n",
        "In Python, break and continue statements can alter the flow of a normal loop.\n",
        "\n",
        "Loops iterate over a block of code until test expression is false, but sometimes we wish to terminate the current iteration or even the whole loop without cheking test expression.\n",
        "\n",
        "The break and continue statements are used in these cases.\n",
        "\n",
        "### break\n",
        "The break statement terminates the loop containing it. Control of the program flows to the statement immediately after the body of the loop.\n",
        "\n",
        "If break statement is inside a nested loop (loop inside another loop), break will terminate the innermost loop.\n",
        "\n",
        "\n",
        "\n",
        "<img src=\"Images/flowchart-break-statement.jpg\">"
      ]
    },
    {
      "metadata": {
        "id": "-KtexT4CMb7D",
        "colab_type": "code",
        "colab": {},
        "outputId": "b3000315-53a2-406f-a709-b37d0864bd86"
      },
      "cell_type": "code",
      "source": [
        "# Use of break statement inside loop\n",
        "\n",
        "for val in \"string\":\n",
        "    if val == \"i\":\n",
        "        break\n",
        "    print(val)\n",
        "\n",
        "print(\"The end\")"
      ],
      "execution_count": 0,
      "outputs": [
        {
          "output_type": "stream",
          "text": [
            "s\n",
            "t\n",
            "r\n",
            "The end\n"
          ],
          "name": "stdout"
        }
      ]
    },
    {
      "metadata": {
        "id": "diqWRXwCMb7F",
        "colab_type": "text"
      },
      "cell_type": "markdown",
      "source": [
        "In this program, we iterate through the \"string\" sequence. We check if the letter is \"i\", upon which we break from the loop. Hence, we see in our output that all the letters up till \"i\" gets printed. After that, the loop terminates."
      ]
    },
    {
      "metadata": {
        "id": "CGfor864Mb7G",
        "colab_type": "text"
      },
      "cell_type": "markdown",
      "source": [
        "### continue\n",
        "The continue statement is used to skip the rest of the code inside a loop for the current iteration only. Loop does not terminate but continues on with the next iteration.\n",
        "\n",
        "<img src=\"Images/continue-statement-flowchart.jpg\">"
      ]
    },
    {
      "metadata": {
        "id": "PCPV6dIOMb7G",
        "colab_type": "code",
        "colab": {},
        "outputId": "e71d1be4-3e32-45a4-b326-1315ee067836"
      },
      "cell_type": "code",
      "source": [
        "# Program to show the use of continue statement inside loops\n",
        "\n",
        "for val in \"string\":\n",
        "    if val == \"i\":\n",
        "        continue\n",
        "    print(val)\n",
        "\n",
        "print(\"The end\")"
      ],
      "execution_count": 0,
      "outputs": [
        {
          "output_type": "stream",
          "text": [
            "s\n",
            "t\n",
            "r\n",
            "n\n",
            "g\n",
            "The end\n"
          ],
          "name": "stdout"
        }
      ]
    },
    {
      "metadata": {
        "id": "5kwWQC5kMb7I",
        "colab_type": "text"
      },
      "cell_type": "markdown",
      "source": [
        "This program is same as the above example except the break statement has been replaced with continue.\n",
        "\n",
        "We continue with the loop, if the string is \"i\", not executing the rest of the block. Hence, we see in our output that all the letters except \"i\" gets printed."
      ]
    },
    {
      "metadata": {
        "collapsed": true,
        "id": "SVobq5UgMb7L",
        "colab_type": "text"
      },
      "cell_type": "markdown",
      "source": [
        "my own work.........."
      ]
    },
    {
      "metadata": {
        "id": "2oVT0qq3Mb7L",
        "colab_type": "code",
        "colab": {},
        "outputId": "7013e507-afd4-49de-9c2c-d1fc2c59e58b"
      },
      "cell_type": "code",
      "source": [
        "# Program to take the input string from the user.\n",
        "\n",
        "name = input(\"What is your name? \")\n",
        "type(name)"
      ],
      "execution_count": 0,
      "outputs": [
        {
          "output_type": "stream",
          "text": [
            "What is your name? satyam\n"
          ],
          "name": "stdout"
        },
        {
          "output_type": "execute_result",
          "data": {
            "text/plain": [
              "str"
            ]
          },
          "metadata": {
            "tags": []
          },
          "execution_count": 2
        }
      ]
    },
    {
      "metadata": {
        "id": "TXo8oh-3Mb7N",
        "colab_type": "code",
        "colab": {},
        "outputId": "b5654c57-e2dd-4116-abe6-b1021096ee55"
      },
      "cell_type": "code",
      "source": [
        "# Program to read integers from user\n",
        "\n",
        "age = input(\"What is your age? \")\n",
        "print (\"Your age is: \", age)\n",
        "type(age)"
      ],
      "execution_count": 0,
      "outputs": [
        {
          "output_type": "stream",
          "text": [
            "What is your age? 25\n",
            "Your age is:  25\n"
          ],
          "name": "stdout"
        },
        {
          "output_type": "execute_result",
          "data": {
            "text/plain": [
              "str"
            ]
          },
          "metadata": {
            "tags": []
          },
          "execution_count": 4
        }
      ]
    },
    {
      "metadata": {
        "id": "YHm5fgYWMb7Q",
        "colab_type": "code",
        "colab": {},
        "outputId": "149dd9e6-cedc-4282-b315-df10a9a38817"
      },
      "cell_type": "code",
      "source": [
        "# Let's have one more example\n",
        "\n",
        "name = input(\"What is your name? \")\n",
        "print (\" It was nice talking you \" + name + \"!\")\n",
        "age = input(\"Enter your age? \")\n",
        "print(\"Hey, you are already \" + age + \" years old, \" + name + \"!\")\n"
      ],
      "execution_count": 0,
      "outputs": [
        {
          "output_type": "stream",
          "text": [
            "What is your name? Onkar\n",
            " It was nice talking you Onkar!\n",
            "Enter your age? 25\n",
            "Hey, you are already 25 years old, Onkar!\n"
          ],
          "name": "stdout"
        }
      ]
    },
    {
      "metadata": {
        "collapsed": true,
        "id": "hQOJSlYMMb7S",
        "colab_type": "code",
        "colab": {}
      },
      "cell_type": "code",
      "source": [
        ""
      ],
      "execution_count": 0,
      "outputs": []
    }
  ]
}